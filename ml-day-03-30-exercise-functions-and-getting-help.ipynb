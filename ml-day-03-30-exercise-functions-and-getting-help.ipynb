{
 "cells": [
  {
   "cell_type": "markdown",
   "id": "f6b2ec01",
   "metadata": {
    "papermill": {
     "duration": 0.014622,
     "end_time": "2021-09-02T13:43:45.643988",
     "exception": false,
     "start_time": "2021-09-02T13:43:45.629366",
     "status": "completed"
    },
    "tags": []
   },
   "source": [
    "**This notebook is an exercise in the [Python](https://www.kaggle.com/learn/python) course.  You can reference the tutorial at [this link](https://www.kaggle.com/colinmorris/functions-and-getting-help).**\n",
    "\n",
    "---\n"
   ]
  },
  {
   "cell_type": "markdown",
   "id": "f06d9ace",
   "metadata": {
    "papermill": {
     "duration": 0.013278,
     "end_time": "2021-09-02T13:43:45.670914",
     "exception": false,
     "start_time": "2021-09-02T13:43:45.657636",
     "status": "completed"
    },
    "tags": []
   },
   "source": [
    "Functions are powerful. Try writing some yourself.\n",
    "\n",
    "As before, don't forget to run the setup code below before jumping into question 1."
   ]
  },
  {
   "cell_type": "code",
   "execution_count": 1,
   "id": "dcea7f79",
   "metadata": {
    "_kg_hide-input": true,
    "_kg_hide-output": true,
    "execution": {
     "iopub.execute_input": "2021-09-02T13:43:45.711125Z",
     "iopub.status.busy": "2021-09-02T13:43:45.710353Z",
     "iopub.status.idle": "2021-09-02T13:43:45.834719Z",
     "shell.execute_reply": "2021-09-02T13:43:45.834048Z",
     "shell.execute_reply.started": "2021-08-05T10:28:22.901759Z"
    },
    "papermill": {
     "duration": 0.150591,
     "end_time": "2021-09-02T13:43:45.834901",
     "exception": false,
     "start_time": "2021-09-02T13:43:45.684310",
     "status": "completed"
    },
    "tags": []
   },
   "outputs": [
    {
     "name": "stdout",
     "output_type": "stream",
     "text": [
      "Setup complete.\n"
     ]
    }
   ],
   "source": [
    "# SETUP. You don't need to worry for now about what this code does or how it works.\n",
    "from learntools.core import binder; binder.bind(globals())\n",
    "from learntools.python.ex2 import *\n",
    "print('Setup complete.')"
   ]
  },
  {
   "cell_type": "markdown",
   "id": "c55d4698",
   "metadata": {
    "papermill": {
     "duration": 0.01352,
     "end_time": "2021-09-02T13:43:45.862592",
     "exception": false,
     "start_time": "2021-09-02T13:43:45.849072",
     "status": "completed"
    },
    "tags": []
   },
   "source": [
    "# 1.\n",
    "\n",
    "Complete the body of the following function according to its docstring.\n",
    "\n",
    "HINT: Python has a built-in function `round`."
   ]
  },
  {
   "cell_type": "code",
   "execution_count": 2,
   "id": "f7fca167",
   "metadata": {
    "execution": {
     "iopub.execute_input": "2021-09-02T13:43:45.897802Z",
     "iopub.status.busy": "2021-09-02T13:43:45.897144Z",
     "iopub.status.idle": "2021-09-02T13:43:45.902523Z",
     "shell.execute_reply": "2021-09-02T13:43:45.901892Z",
     "shell.execute_reply.started": "2021-08-05T10:30:35.609076Z"
    },
    "papermill": {
     "duration": 0.026242,
     "end_time": "2021-09-02T13:43:45.902660",
     "exception": false,
     "start_time": "2021-09-02T13:43:45.876418",
     "status": "completed"
    },
    "tags": []
   },
   "outputs": [
    {
     "data": {
      "application/javascript": [
       "parent.postMessage({\"jupyterEvent\": \"custom.exercise_interaction\", \"data\": {\"outcomeType\": 1, \"valueTowardsCompletion\": 0.16666666666666666, \"interactionType\": 1, \"questionType\": 2, \"questionId\": \"1_RoundFunctionProblem\", \"learnToolsVersion\": \"0.3.4\", \"failureMessage\": \"\", \"exceptionClass\": \"\", \"trace\": \"\"}}, \"*\")"
      ],
      "text/plain": [
       "<IPython.core.display.Javascript object>"
      ]
     },
     "metadata": {},
     "output_type": "display_data"
    },
    {
     "data": {
      "text/markdown": [
       "<span style=\"color:#33cc33\">Correct</span>"
      ],
      "text/plain": [
       "Correct"
      ]
     },
     "metadata": {},
     "output_type": "display_data"
    }
   ],
   "source": [
    "def round_to_two_places(num):\n",
    "    return round(num, 2)\n",
    "    \n",
    "\n",
    "q1.check()"
   ]
  },
  {
   "cell_type": "code",
   "execution_count": 3,
   "id": "4735c3f8",
   "metadata": {
    "execution": {
     "iopub.execute_input": "2021-09-02T13:43:45.937441Z",
     "iopub.status.busy": "2021-09-02T13:43:45.936818Z",
     "iopub.status.idle": "2021-09-02T13:43:45.944983Z",
     "shell.execute_reply": "2021-09-02T13:43:45.944373Z",
     "shell.execute_reply.started": "2021-08-05T10:30:17.102816Z"
    },
    "papermill": {
     "duration": 0.027279,
     "end_time": "2021-09-02T13:43:45.945132",
     "exception": false,
     "start_time": "2021-09-02T13:43:45.917853",
     "status": "completed"
    },
    "tags": []
   },
   "outputs": [
    {
     "data": {
      "application/javascript": [
       "parent.postMessage({\"jupyterEvent\": \"custom.exercise_interaction\", \"data\": {\"interactionType\": 2, \"questionType\": 2, \"questionId\": \"1_RoundFunctionProblem\", \"learnToolsVersion\": \"0.3.4\", \"valueTowardsCompletion\": 0.0, \"failureMessage\": \"\", \"exceptionClass\": \"\", \"trace\": \"\", \"outcomeType\": 4}}, \"*\")"
      ],
      "text/plain": [
       "<IPython.core.display.Javascript object>"
      ]
     },
     "metadata": {},
     "output_type": "display_data"
    },
    {
     "data": {
      "text/markdown": [
       "<span style=\"color:#3366cc\">Hint:</span> Run `help(round)` in the console (or in a code cell) to learn more about the round function. You'll need to use the function's optional second argument."
      ],
      "text/plain": [
       "Hint: Run `help(round)` in the console (or in a code cell) to learn more about the round function. You'll need to use the function's optional second argument."
      ]
     },
     "metadata": {},
     "output_type": "display_data"
    },
    {
     "data": {
      "application/javascript": [
       "parent.postMessage({\"jupyterEvent\": \"custom.exercise_interaction\", \"data\": {\"interactionType\": 3, \"questionType\": 2, \"questionId\": \"1_RoundFunctionProblem\", \"learnToolsVersion\": \"0.3.4\", \"valueTowardsCompletion\": 0.0, \"failureMessage\": \"\", \"exceptionClass\": \"\", \"trace\": \"\", \"outcomeType\": 4}}, \"*\")"
      ],
      "text/plain": [
       "<IPython.core.display.Javascript object>"
      ]
     },
     "metadata": {},
     "output_type": "display_data"
    },
    {
     "data": {
      "text/markdown": [
       "<span style=\"color:#33cc99\">Solution:</span> \n",
       "```python\n",
       "return round(num, 2)\n",
       "```"
      ],
      "text/plain": [
       "Solution: \n",
       "```python\n",
       "return round(num, 2)\n",
       "```"
      ]
     },
     "metadata": {},
     "output_type": "display_data"
    }
   ],
   "source": [
    "# Uncomment the following for a hint\n",
    "q1.hint()\n",
    "# Or uncomment the following to peek at the solution\n",
    "q1.solution()"
   ]
  },
  {
   "cell_type": "markdown",
   "id": "85b5d125",
   "metadata": {
    "papermill": {
     "duration": 0.016634,
     "end_time": "2021-09-02T13:43:45.978587",
     "exception": false,
     "start_time": "2021-09-02T13:43:45.961953",
     "status": "completed"
    },
    "tags": []
   },
   "source": [
    "# 2.\n",
    "The help for `round` says that `ndigits` (the second argument) may be negative.\n",
    "What do you think will happen when it is? Try some examples in the following cell."
   ]
  },
  {
   "cell_type": "code",
   "execution_count": 4,
   "id": "2f26e532",
   "metadata": {
    "execution": {
     "iopub.execute_input": "2021-09-02T13:43:46.015368Z",
     "iopub.status.busy": "2021-09-02T13:43:46.014642Z",
     "iopub.status.idle": "2021-09-02T13:43:46.017791Z",
     "shell.execute_reply": "2021-09-02T13:43:46.018234Z",
     "shell.execute_reply.started": "2021-08-05T10:31:31.721026Z"
    },
    "papermill": {
     "duration": 0.023292,
     "end_time": "2021-09-02T13:43:46.018397",
     "exception": false,
     "start_time": "2021-09-02T13:43:45.995105",
     "status": "completed"
    },
    "tags": []
   },
   "outputs": [],
   "source": [
    "ndigits=-1"
   ]
  },
  {
   "cell_type": "markdown",
   "id": "3ab2ea60",
   "metadata": {
    "papermill": {
     "duration": 0.016422,
     "end_time": "2021-09-02T13:43:46.051477",
     "exception": false,
     "start_time": "2021-09-02T13:43:46.035055",
     "status": "completed"
    },
    "tags": []
   },
   "source": [
    "Can you think of a case where this would be useful?  Once you're ready, run the code cell below to see the answer and to receive credit for completing the problem."
   ]
  },
  {
   "cell_type": "code",
   "execution_count": 5,
   "id": "b6075cef",
   "metadata": {
    "execution": {
     "iopub.execute_input": "2021-09-02T13:43:46.087207Z",
     "iopub.status.busy": "2021-09-02T13:43:46.086585Z",
     "iopub.status.idle": "2021-09-02T13:43:46.092459Z",
     "shell.execute_reply": "2021-09-02T13:43:46.092993Z",
     "shell.execute_reply.started": "2021-08-05T10:31:35.289645Z"
    },
    "papermill": {
     "duration": 0.025233,
     "end_time": "2021-09-02T13:43:46.093156",
     "exception": false,
     "start_time": "2021-09-02T13:43:46.067923",
     "status": "completed"
    },
    "tags": []
   },
   "outputs": [
    {
     "data": {
      "application/javascript": [
       "parent.postMessage({\"jupyterEvent\": \"custom.exercise_interaction\", \"data\": {\"interactionType\": 3, \"questionType\": 4, \"questionId\": \"2_RoundNdigitsProblem\", \"learnToolsVersion\": \"0.3.4\", \"valueTowardsCompletion\": 0.0, \"failureMessage\": \"\", \"exceptionClass\": \"\", \"trace\": \"\", \"outcomeType\": 4}}, \"*\")"
      ],
      "text/plain": [
       "<IPython.core.display.Javascript object>"
      ]
     },
     "metadata": {},
     "output_type": "display_data"
    },
    {
     "data": {
      "text/markdown": [
       "<span style=\"color:#33cc99\">Solution:</span> As you've seen, `ndigits=-1` rounds to the nearest 10, `ndigits=-2` rounds to the nearest 100 and so on. Where might this be useful? Suppose we're dealing with large numbers:\n",
       "\n",
       "> The area of Finland is 338,424 km²  \n",
       "> The area of Greenland is 2,166,086 km²\n",
       "\n",
       "We probably don't care whether it's really 338,424, or 338,425, or 338,177. All those digits of accuracy are just distracting. We can chop them off by calling `round()` with `ndigits=-3`:\n",
       "\n",
       "> The area of Finland is 338,000 km²  \n",
       "> The area of Greenland is 2,166,000 km²\n",
       "\n",
       "(We'll talk about how we would get the commas later when we talk about string formatting :))\n"
      ],
      "text/plain": [
       "Solution: As you've seen, `ndigits=-1` rounds to the nearest 10, `ndigits=-2` rounds to the nearest 100 and so on. Where might this be useful? Suppose we're dealing with large numbers:\n",
       "\n",
       "> The area of Finland is 338,424 km²  \n",
       "> The area of Greenland is 2,166,086 km²\n",
       "\n",
       "We probably don't care whether it's really 338,424, or 338,425, or 338,177. All those digits of accuracy are just distracting. We can chop them off by calling `round()` with `ndigits=-3`:\n",
       "\n",
       "> The area of Finland is 338,000 km²  \n",
       "> The area of Greenland is 2,166,000 km²\n",
       "\n",
       "(We'll talk about how we would get the commas later when we talk about string formatting :))"
      ]
     },
     "metadata": {},
     "output_type": "display_data"
    }
   ],
   "source": [
    "# Check your answer (Run this code cell to receive credit!)\n",
    "q2.solution()"
   ]
  },
  {
   "cell_type": "markdown",
   "id": "02cbe7e8",
   "metadata": {
    "papermill": {
     "duration": 0.01725,
     "end_time": "2021-09-02T13:43:46.127915",
     "exception": false,
     "start_time": "2021-09-02T13:43:46.110665",
     "status": "completed"
    },
    "tags": []
   },
   "source": [
    "# 3.\n",
    "\n",
    "In the previous exercise, the candy-sharing friends Alice, Bob and Carol tried to split candies evenly. For the sake of their friendship, any candies left over would be smashed. For example, if they collectively bring home 91 candies, they'll take 30 each and smash 1.\n",
    "\n",
    "Below is a simple function that will calculate the number of candies to smash for *any* number of total candies.\n",
    "\n",
    "Modify it so that it optionally takes a second argument representing the number of friends the candies are being split between. If no second argument is provided, it should assume 3 friends, as before.\n",
    "\n",
    "Update the docstring to reflect this new behaviour."
   ]
  },
  {
   "cell_type": "code",
   "execution_count": 6,
   "id": "510c7ca7",
   "metadata": {
    "execution": {
     "iopub.execute_input": "2021-09-02T13:43:46.165578Z",
     "iopub.status.busy": "2021-09-02T13:43:46.164996Z",
     "iopub.status.idle": "2021-09-02T13:43:46.171224Z",
     "shell.execute_reply": "2021-09-02T13:43:46.171674Z",
     "shell.execute_reply.started": "2021-08-05T10:32:15.773246Z"
    },
    "papermill": {
     "duration": 0.02691,
     "end_time": "2021-09-02T13:43:46.171843",
     "exception": false,
     "start_time": "2021-09-02T13:43:46.144933",
     "status": "completed"
    },
    "tags": []
   },
   "outputs": [
    {
     "data": {
      "application/javascript": [
       "parent.postMessage({\"jupyterEvent\": \"custom.exercise_interaction\", \"data\": {\"outcomeType\": 1, \"valueTowardsCompletion\": 0.16666666666666666, \"interactionType\": 1, \"questionType\": 2, \"questionId\": \"3_CandySmashingFunctionProblem\", \"learnToolsVersion\": \"0.3.4\", \"failureMessage\": \"\", \"exceptionClass\": \"\", \"trace\": \"\"}}, \"*\")"
      ],
      "text/plain": [
       "<IPython.core.display.Javascript object>"
      ]
     },
     "metadata": {},
     "output_type": "display_data"
    },
    {
     "data": {
      "text/markdown": [
       "<span style=\"color:#33cc33\">Correct</span>"
      ],
      "text/plain": [
       "Correct"
      ]
     },
     "metadata": {},
     "output_type": "display_data"
    }
   ],
   "source": [
    "def to_smash(total_candies, n_friends=3):\n",
    "    return total_candies % n_friends\n",
    "\n",
    "# Check your answer\n",
    "q3.check()"
   ]
  },
  {
   "cell_type": "code",
   "execution_count": 7,
   "id": "3c9b06cb",
   "metadata": {
    "execution": {
     "iopub.execute_input": "2021-09-02T13:43:46.212291Z",
     "iopub.status.busy": "2021-09-02T13:43:46.211683Z",
     "iopub.status.idle": "2021-09-02T13:43:46.218529Z",
     "shell.execute_reply": "2021-09-02T13:43:46.217943Z",
     "shell.execute_reply.started": "2021-08-05T10:31:46.84973Z"
    },
    "papermill": {
     "duration": 0.028153,
     "end_time": "2021-09-02T13:43:46.218658",
     "exception": false,
     "start_time": "2021-09-02T13:43:46.190505",
     "status": "completed"
    },
    "tags": []
   },
   "outputs": [
    {
     "data": {
      "application/javascript": [
       "parent.postMessage({\"jupyterEvent\": \"custom.exercise_interaction\", \"data\": {\"interactionType\": 2, \"questionType\": 2, \"questionId\": \"3_CandySmashingFunctionProblem\", \"learnToolsVersion\": \"0.3.4\", \"valueTowardsCompletion\": 0.0, \"failureMessage\": \"\", \"exceptionClass\": \"\", \"trace\": \"\", \"outcomeType\": 4}}, \"*\")"
      ],
      "text/plain": [
       "<IPython.core.display.Javascript object>"
      ]
     },
     "metadata": {},
     "output_type": "display_data"
    },
    {
     "data": {
      "text/markdown": [
       "<span style=\"color:#3366cc\">Hint:</span> Refer to the section of the last tutorial notebook where we talked about default arguments"
      ],
      "text/plain": [
       "Hint: Refer to the section of the last tutorial notebook where we talked about default arguments"
      ]
     },
     "metadata": {},
     "output_type": "display_data"
    }
   ],
   "source": [
    "q3.hint()"
   ]
  },
  {
   "cell_type": "code",
   "execution_count": 8,
   "id": "818d0b78",
   "metadata": {
    "execution": {
     "iopub.execute_input": "2021-09-02T13:43:46.263718Z",
     "iopub.status.busy": "2021-09-02T13:43:46.262720Z",
     "iopub.status.idle": "2021-09-02T13:43:46.267827Z",
     "shell.execute_reply": "2021-09-02T13:43:46.268318Z",
     "shell.execute_reply.started": "2021-08-05T10:31:53.460649Z"
    },
    "papermill": {
     "duration": 0.029879,
     "end_time": "2021-09-02T13:43:46.268483",
     "exception": false,
     "start_time": "2021-09-02T13:43:46.238604",
     "status": "completed"
    },
    "tags": []
   },
   "outputs": [
    {
     "data": {
      "application/javascript": [
       "parent.postMessage({\"jupyterEvent\": \"custom.exercise_interaction\", \"data\": {\"interactionType\": 3, \"questionType\": 2, \"questionId\": \"3_CandySmashingFunctionProblem\", \"learnToolsVersion\": \"0.3.4\", \"valueTowardsCompletion\": 0.0, \"failureMessage\": \"\", \"exceptionClass\": \"\", \"trace\": \"\", \"outcomeType\": 4}}, \"*\")"
      ],
      "text/plain": [
       "<IPython.core.display.Javascript object>"
      ]
     },
     "metadata": {},
     "output_type": "display_data"
    },
    {
     "data": {
      "text/markdown": [
       "<span style=\"color:#33cc99\">Solution:</span> \n",
       "```python\n",
       "def to_smash(total_candies, n_friends=3):\n",
       "    return total_candies % n_friends\n",
       "```"
      ],
      "text/plain": [
       "Solution: \n",
       "```python\n",
       "def to_smash(total_candies, n_friends=3):\n",
       "    return total_candies % n_friends\n",
       "```"
      ]
     },
     "metadata": {},
     "output_type": "display_data"
    }
   ],
   "source": [
    "q3.solution()"
   ]
  },
  {
   "cell_type": "markdown",
   "id": "73516083",
   "metadata": {
    "papermill": {
     "duration": 0.020049,
     "end_time": "2021-09-02T13:43:46.309154",
     "exception": false,
     "start_time": "2021-09-02T13:43:46.289105",
     "status": "completed"
    },
    "tags": []
   },
   "source": [
    "# 4. (Optional)\n",
    "\n",
    "It may not be fun, but reading and understanding error messages will be an important part of your Python career.\n",
    "\n",
    "Each code cell below contains some commented buggy code. For each cell...\n",
    "\n",
    "1. Read the code and predict what you think will happen when it's run.\n",
    "2. Then uncomment the code and run it to see what happens. (**Tip**: In the kernel editor, you can highlight several lines and press `ctrl`+`/` to toggle commenting.)\n",
    "3. Fix the code (so that it accomplishes its intended purpose without throwing an exception)\n",
    "\n",
    "<!-- TODO: should this be autochecked? Delta is probably pretty small. -->"
   ]
  },
  {
   "cell_type": "code",
   "execution_count": 9,
   "id": "0eb4bb8c",
   "metadata": {
    "execution": {
     "iopub.execute_input": "2021-09-02T13:43:46.353055Z",
     "iopub.status.busy": "2021-09-02T13:43:46.352457Z",
     "iopub.status.idle": "2021-09-02T13:43:46.440495Z",
     "shell.execute_reply": "2021-09-02T13:43:46.439425Z"
    },
    "papermill": {
     "duration": 0.111277,
     "end_time": "2021-09-02T13:43:46.440821",
     "exception": true,
     "start_time": "2021-09-02T13:43:46.329544",
     "status": "failed"
    },
    "tags": []
   },
   "outputs": [
    {
     "ename": "NameError",
     "evalue": "name 'ruound_to_two_places' is not defined",
     "output_type": "error",
     "traceback": [
      "\u001b[0;31m---------------------------------------------------------------------------\u001b[0m",
      "\u001b[0;31mNameError\u001b[0m                                 Traceback (most recent call last)",
      "\u001b[0;32m<ipython-input-9-c6fedd2edf24>\u001b[0m in \u001b[0;36m<module>\u001b[0;34m\u001b[0m\n\u001b[0;32m----> 1\u001b[0;31m \u001b[0mruound_to_two_places\u001b[0m\u001b[0;34m(\u001b[0m\u001b[0;36m9.9999\u001b[0m\u001b[0;34m)\u001b[0m\u001b[0;34m\u001b[0m\u001b[0;34m\u001b[0m\u001b[0m\n\u001b[0m",
      "\u001b[0;31mNameError\u001b[0m: name 'ruound_to_two_places' is not defined"
     ]
    }
   ],
   "source": [
    "ruound_to_two_places(9.9999)"
   ]
  },
  {
   "cell_type": "code",
   "execution_count": null,
   "id": "42d774bf",
   "metadata": {
    "papermill": {
     "duration": null,
     "end_time": null,
     "exception": null,
     "start_time": null,
     "status": "pending"
    },
    "tags": []
   },
   "outputs": [],
   "source": [
    "# x = -10\n",
    "# y = 5\n",
    "# # Which of the two variables above has the smallest absolute value?\n",
    "# smallest_abs = min(abs(x, y))"
   ]
  },
  {
   "cell_type": "code",
   "execution_count": null,
   "id": "ac946c85",
   "metadata": {
    "papermill": {
     "duration": null,
     "end_time": null,
     "exception": null,
     "start_time": null,
     "status": "pending"
    },
    "tags": []
   },
   "outputs": [],
   "source": [
    "# def f(x):\n",
    "#     y = abs(x)\n",
    "# return y\n",
    "\n",
    "# print(f(5))"
   ]
  },
  {
   "cell_type": "markdown",
   "id": "268beee4",
   "metadata": {
    "papermill": {
     "duration": null,
     "end_time": null,
     "exception": null,
     "start_time": null,
     "status": "pending"
    },
    "tags": []
   },
   "source": [
    "# Keep Going\n",
    "\n",
    "Nice job with the code. Next up, you'll learn about *conditionals*, which you'll need to **[write interesting programs](https://www.kaggle.com/colinmorris/booleans-and-conditionals)**. "
   ]
  },
  {
   "cell_type": "markdown",
   "id": "85f98fb8",
   "metadata": {
    "papermill": {
     "duration": null,
     "end_time": null,
     "exception": null,
     "start_time": null,
     "status": "pending"
    },
    "tags": []
   },
   "source": [
    "---\n",
    "\n",
    "\n",
    "\n",
    "\n",
    "*Have questions or comments? Visit the [Learn Discussion forum](https://www.kaggle.com/learn-forum/161283) to chat with other Learners.*"
   ]
  }
 ],
 "metadata": {
  "kernelspec": {
   "display_name": "Python 3",
   "language": "python",
   "name": "python3"
  },
  "language_info": {
   "codemirror_mode": {
    "name": "ipython",
    "version": 3
   },
   "file_extension": ".py",
   "mimetype": "text/x-python",
   "name": "python",
   "nbconvert_exporter": "python",
   "pygments_lexer": "ipython3",
   "version": "3.7.10"
  },
  "papermill": {
   "default_parameters": {},
   "duration": 9.762791,
   "end_time": "2021-09-02T13:43:47.730180",
   "environment_variables": {},
   "exception": true,
   "input_path": "__notebook__.ipynb",
   "output_path": "__notebook__.ipynb",
   "parameters": {},
   "start_time": "2021-09-02T13:43:37.967389",
   "version": "2.3.3"
  }
 },
 "nbformat": 4,
 "nbformat_minor": 5
}
