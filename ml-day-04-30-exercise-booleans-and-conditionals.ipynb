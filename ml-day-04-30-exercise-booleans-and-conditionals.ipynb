{
 "cells": [
  {
   "cell_type": "markdown",
   "id": "9194a4ae",
   "metadata": {
    "papermill": {
     "duration": 0.020482,
     "end_time": "2021-09-02T13:44:22.708816",
     "exception": false,
     "start_time": "2021-09-02T13:44:22.688334",
     "status": "completed"
    },
    "tags": []
   },
   "source": [
    "**This notebook is an exercise in the [Python](https://www.kaggle.com/learn/python) course.  You can reference the tutorial at [this link](https://www.kaggle.com/colinmorris/booleans-and-conditionals).**\n",
    "\n",
    "---\n"
   ]
  },
  {
   "cell_type": "markdown",
   "id": "f0cfc246",
   "metadata": {
    "papermill": {
     "duration": 0.019172,
     "end_time": "2021-09-02T13:44:22.747642",
     "exception": false,
     "start_time": "2021-09-02T13:44:22.728470",
     "status": "completed"
    },
    "tags": []
   },
   "source": [
    "In this exercise, you'll put to work what you have learned about booleans and conditionals.\n",
    "\n",
    "To get started, **run the setup code below** before writing your own code (and if you leave this notebook and come back later, don't forget to run the setup code again)."
   ]
  },
  {
   "cell_type": "code",
   "execution_count": 1,
   "id": "756ab97d",
   "metadata": {
    "execution": {
     "iopub.execute_input": "2021-09-02T13:44:22.790023Z",
     "iopub.status.busy": "2021-09-02T13:44:22.788985Z",
     "iopub.status.idle": "2021-09-02T13:44:22.924892Z",
     "shell.execute_reply": "2021-09-02T13:44:22.923942Z",
     "shell.execute_reply.started": "2021-08-05T10:37:22.878084Z"
    },
    "papermill": {
     "duration": 0.158289,
     "end_time": "2021-09-02T13:44:22.925105",
     "exception": false,
     "start_time": "2021-09-02T13:44:22.766816",
     "status": "completed"
    },
    "tags": []
   },
   "outputs": [
    {
     "name": "stdout",
     "output_type": "stream",
     "text": [
      "Setup complete.\n"
     ]
    }
   ],
   "source": [
    "from learntools.core import binder; binder.bind(globals())\n",
    "from learntools.python.ex3 import *\n",
    "print('Setup complete.')"
   ]
  },
  {
   "cell_type": "markdown",
   "id": "41e204bb",
   "metadata": {
    "papermill": {
     "duration": 0.01938,
     "end_time": "2021-09-02T13:44:22.965797",
     "exception": false,
     "start_time": "2021-09-02T13:44:22.946417",
     "status": "completed"
    },
    "tags": []
   },
   "source": [
    "# 1.\n",
    "\n",
    "Many programming languages have [`sign`](https://en.wikipedia.org/wiki/Sign_function) available as a built-in function. Python doesn't, but we can define our own!\n",
    "\n",
    "In the cell below, define a function called `sign` which takes a numerical argument and returns -1 if it's negative, 1 if it's positive, and 0 if it's 0."
   ]
  },
  {
   "cell_type": "code",
   "execution_count": 2,
   "id": "6d4e2ff2",
   "metadata": {
    "execution": {
     "iopub.execute_input": "2021-09-02T13:44:23.013041Z",
     "iopub.status.busy": "2021-09-02T13:44:23.012107Z",
     "iopub.status.idle": "2021-09-02T13:44:23.017847Z",
     "shell.execute_reply": "2021-09-02T13:44:23.018424Z",
     "shell.execute_reply.started": "2021-08-05T10:38:19.21167Z"
    },
    "papermill": {
     "duration": 0.033076,
     "end_time": "2021-09-02T13:44:23.018592",
     "exception": false,
     "start_time": "2021-09-02T13:44:22.985516",
     "status": "completed"
    },
    "tags": []
   },
   "outputs": [
    {
     "data": {
      "application/javascript": [
       "parent.postMessage({\"jupyterEvent\": \"custom.exercise_interaction\", \"data\": {\"outcomeType\": 1, \"valueTowardsCompletion\": 0.2, \"interactionType\": 1, \"questionType\": 2, \"questionId\": \"1_SignFunctionProblem\", \"learnToolsVersion\": \"0.3.4\", \"failureMessage\": \"\", \"exceptionClass\": \"\", \"trace\": \"\"}}, \"*\")"
      ],
      "text/plain": [
       "<IPython.core.display.Javascript object>"
      ]
     },
     "metadata": {},
     "output_type": "display_data"
    },
    {
     "data": {
      "text/markdown": [
       "<span style=\"color:#33cc33\">Correct</span>"
      ],
      "text/plain": [
       "Correct"
      ]
     },
     "metadata": {},
     "output_type": "display_data"
    }
   ],
   "source": [
    "def sign(x):\n",
    "    if x > 0:\n",
    "        return 1\n",
    "    elif x < 0:\n",
    "        return -1\n",
    "    else:\n",
    "        return 0\n",
    "# Check your answer\n",
    "q1.check()"
   ]
  },
  {
   "cell_type": "code",
   "execution_count": 3,
   "id": "ef26723b",
   "metadata": {
    "execution": {
     "iopub.execute_input": "2021-09-02T13:44:23.064474Z",
     "iopub.status.busy": "2021-09-02T13:44:23.063537Z",
     "iopub.status.idle": "2021-09-02T13:44:23.070963Z",
     "shell.execute_reply": "2021-09-02T13:44:23.071532Z",
     "shell.execute_reply.started": "2021-08-05T10:37:42.702692Z"
    },
    "papermill": {
     "duration": 0.032173,
     "end_time": "2021-09-02T13:44:23.071695",
     "exception": false,
     "start_time": "2021-09-02T13:44:23.039522",
     "status": "completed"
    },
    "tags": []
   },
   "outputs": [
    {
     "data": {
      "application/javascript": [
       "parent.postMessage({\"jupyterEvent\": \"custom.exercise_interaction\", \"data\": {\"interactionType\": 3, \"questionType\": 2, \"questionId\": \"1_SignFunctionProblem\", \"learnToolsVersion\": \"0.3.4\", \"valueTowardsCompletion\": 0.0, \"failureMessage\": \"\", \"exceptionClass\": \"\", \"trace\": \"\", \"outcomeType\": 4}}, \"*\")"
      ],
      "text/plain": [
       "<IPython.core.display.Javascript object>"
      ]
     },
     "metadata": {},
     "output_type": "display_data"
    },
    {
     "data": {
      "text/markdown": [
       "<span style=\"color:#33cc99\">Solution:</span> \n",
       "```python\n",
       "def sign(x):\n",
       "    if x > 0:\n",
       "        return 1\n",
       "    elif x < 0:\n",
       "        return -1\n",
       "    else:\n",
       "        return 0\n",
       "```"
      ],
      "text/plain": [
       "Solution: \n",
       "```python\n",
       "def sign(x):\n",
       "    if x > 0:\n",
       "        return 1\n",
       "    elif x < 0:\n",
       "        return -1\n",
       "    else:\n",
       "        return 0\n",
       "```"
      ]
     },
     "metadata": {},
     "output_type": "display_data"
    }
   ],
   "source": [
    "q1.solution()"
   ]
  },
  {
   "cell_type": "markdown",
   "id": "0c06b121",
   "metadata": {
    "papermill": {
     "duration": 0.021866,
     "end_time": "2021-09-02T13:44:23.114809",
     "exception": false,
     "start_time": "2021-09-02T13:44:23.092943",
     "status": "completed"
    },
    "tags": []
   },
   "source": [
    "# 2.\n",
    "\n",
    "We've decided to add \"logging\" to our `to_smash` function from the previous exercise."
   ]
  },
  {
   "cell_type": "code",
   "execution_count": 4,
   "id": "19948744",
   "metadata": {
    "execution": {
     "iopub.execute_input": "2021-09-02T13:44:23.183299Z",
     "iopub.status.busy": "2021-09-02T13:44:23.182344Z",
     "iopub.status.idle": "2021-09-02T13:44:23.192111Z",
     "shell.execute_reply": "2021-09-02T13:44:23.192694Z"
    },
    "papermill": {
     "duration": 0.052352,
     "end_time": "2021-09-02T13:44:23.192875",
     "exception": false,
     "start_time": "2021-09-02T13:44:23.140523",
     "status": "completed"
    },
    "tags": []
   },
   "outputs": [
    {
     "name": "stdout",
     "output_type": "stream",
     "text": [
      "Splitting 91 candies\n"
     ]
    },
    {
     "data": {
      "text/plain": [
       "1"
      ]
     },
     "execution_count": 4,
     "metadata": {},
     "output_type": "execute_result"
    }
   ],
   "source": [
    "def to_smash(total_candies):\n",
    "    \"\"\"Return the number of leftover candies that must be smashed after distributing\n",
    "    the given number of candies evenly between 3 friends.\n",
    "    \n",
    "    >>> to_smash(91)\n",
    "    1\n",
    "    \"\"\"\n",
    "    print(\"Splitting\", total_candies, \"candies\")\n",
    "    return total_candies % 3\n",
    "\n",
    "to_smash(91)"
   ]
  },
  {
   "cell_type": "markdown",
   "id": "b52d79cc",
   "metadata": {
    "papermill": {
     "duration": 0.030998,
     "end_time": "2021-09-02T13:44:23.256172",
     "exception": false,
     "start_time": "2021-09-02T13:44:23.225174",
     "status": "completed"
    },
    "tags": []
   },
   "source": [
    "What happens if we call it with `total_candies = 1`?"
   ]
  },
  {
   "cell_type": "code",
   "execution_count": 5,
   "id": "7f7dd98e",
   "metadata": {
    "execution": {
     "iopub.execute_input": "2021-09-02T13:44:23.314468Z",
     "iopub.status.busy": "2021-09-02T13:44:23.313595Z",
     "iopub.status.idle": "2021-09-02T13:44:23.318699Z",
     "shell.execute_reply": "2021-09-02T13:44:23.318037Z",
     "shell.execute_reply.started": "2021-08-05T10:39:28.767594Z"
    },
    "papermill": {
     "duration": 0.031285,
     "end_time": "2021-09-02T13:44:23.318841",
     "exception": false,
     "start_time": "2021-09-02T13:44:23.287556",
     "status": "completed"
    },
    "tags": []
   },
   "outputs": [
    {
     "name": "stdout",
     "output_type": "stream",
     "text": [
      "Splitting 1 candies\n"
     ]
    },
    {
     "data": {
      "text/plain": [
       "1"
      ]
     },
     "execution_count": 5,
     "metadata": {},
     "output_type": "execute_result"
    }
   ],
   "source": [
    "to_smash(1)"
   ]
  },
  {
   "cell_type": "markdown",
   "id": "fef982ff",
   "metadata": {
    "papermill": {
     "duration": 0.024069,
     "end_time": "2021-09-02T13:44:23.369012",
     "exception": false,
     "start_time": "2021-09-02T13:44:23.344943",
     "status": "completed"
    },
    "tags": []
   },
   "source": [
    "That isn't great grammar!\n",
    "\n",
    "Modify the definition in the cell below to correct the grammar of our print statement. (If there's only one candy, we should use the singular \"candy\" instead of the plural \"candies\")"
   ]
  },
  {
   "cell_type": "code",
   "execution_count": 6,
   "id": "242110c5",
   "metadata": {
    "execution": {
     "iopub.execute_input": "2021-09-02T13:44:23.426123Z",
     "iopub.status.busy": "2021-09-02T13:44:23.425532Z",
     "iopub.status.idle": "2021-09-02T13:44:23.433063Z",
     "shell.execute_reply": "2021-09-02T13:44:23.433796Z"
    },
    "papermill": {
     "duration": 0.036945,
     "end_time": "2021-09-02T13:44:23.434015",
     "exception": false,
     "start_time": "2021-09-02T13:44:23.397070",
     "status": "completed"
    },
    "tags": []
   },
   "outputs": [
    {
     "name": "stdout",
     "output_type": "stream",
     "text": [
      "Splitting 91 candies\n",
      "Splitting 1 candies\n"
     ]
    },
    {
     "data": {
      "text/plain": [
       "1"
      ]
     },
     "execution_count": 6,
     "metadata": {},
     "output_type": "execute_result"
    }
   ],
   "source": [
    "def to_smash(total_candies):\n",
    "    \"\"\"Return the number of leftover candies that must be smashed after distributing\n",
    "    the given number of candies evenly between 3 friends.\n",
    "    \n",
    "    >>> to_smash(91)\n",
    "    1\n",
    "    \"\"\"\n",
    "    print(\"Splitting\", total_candies, \"candies\")\n",
    "    return total_candies % 3\n",
    "\n",
    "to_smash(91)\n",
    "to_smash(1)"
   ]
  },
  {
   "cell_type": "markdown",
   "id": "b582c5f4",
   "metadata": {
    "papermill": {
     "duration": 0.03997,
     "end_time": "2021-09-02T13:44:23.503731",
     "exception": false,
     "start_time": "2021-09-02T13:44:23.463761",
     "status": "completed"
    },
    "tags": []
   },
   "source": [
    "To get credit for completing this problem, and to see the official answer, run the code cell below."
   ]
  },
  {
   "cell_type": "code",
   "execution_count": 7,
   "id": "4b4ec9dd",
   "metadata": {
    "execution": {
     "iopub.execute_input": "2021-09-02T13:44:23.565145Z",
     "iopub.status.busy": "2021-09-02T13:44:23.564208Z",
     "iopub.status.idle": "2021-09-02T13:44:23.572544Z",
     "shell.execute_reply": "2021-09-02T13:44:23.573038Z",
     "shell.execute_reply.started": "2021-08-05T10:39:31.674403Z"
    },
    "papermill": {
     "duration": 0.046143,
     "end_time": "2021-09-02T13:44:23.573241",
     "exception": false,
     "start_time": "2021-09-02T13:44:23.527098",
     "status": "completed"
    },
    "tags": []
   },
   "outputs": [
    {
     "data": {
      "application/javascript": [
       "parent.postMessage({\"jupyterEvent\": \"custom.exercise_interaction\", \"data\": {\"interactionType\": 3, \"questionType\": 4, \"questionId\": \"2_PluralizationProblem\", \"learnToolsVersion\": \"0.3.4\", \"valueTowardsCompletion\": 0.0, \"failureMessage\": \"\", \"exceptionClass\": \"\", \"trace\": \"\", \"outcomeType\": 4}}, \"*\")"
      ],
      "text/plain": [
       "<IPython.core.display.Javascript object>"
      ]
     },
     "metadata": {},
     "output_type": "display_data"
    },
    {
     "data": {
      "text/markdown": [
       "<span style=\"color:#33cc99\">Solution:</span> A straightforward (and totally fine) solution is to replace the original `print` call with:\n",
       "\n",
       "```python\n",
       "if total_candies == 1:\n",
       "    print(\"Splitting 1 candy\")\n",
       "else:\n",
       "    print(\"Splitting\", total_candies, \"candies\")\n",
       "```\n",
       "\n",
       "Here's a slightly more succinct solution using a conditional expression:\n",
       "\n",
       "```python\n",
       "print(\"Splitting\", total_candies, \"candy\" if total_candies == 1 else \"candies\")\n",
       "```"
      ],
      "text/plain": [
       "Solution: A straightforward (and totally fine) solution is to replace the original `print` call with:\n",
       "\n",
       "```python\n",
       "if total_candies == 1:\n",
       "    print(\"Splitting 1 candy\")\n",
       "else:\n",
       "    print(\"Splitting\", total_candies, \"candies\")\n",
       "```\n",
       "\n",
       "Here's a slightly more succinct solution using a conditional expression:\n",
       "\n",
       "```python\n",
       "print(\"Splitting\", total_candies, \"candy\" if total_candies == 1 else \"candies\")\n",
       "```"
      ]
     },
     "metadata": {},
     "output_type": "display_data"
    }
   ],
   "source": [
    "# Check your answer (Run this code cell to receive credit!)\n",
    "q2.solution()"
   ]
  },
  {
   "cell_type": "markdown",
   "id": "37c033ce",
   "metadata": {
    "papermill": {
     "duration": 0.02417,
     "end_time": "2021-09-02T13:44:23.623311",
     "exception": false,
     "start_time": "2021-09-02T13:44:23.599141",
     "status": "completed"
    },
    "tags": []
   },
   "source": [
    "# 3. <span title=\"A bit spicy\" style=\"color: darkgreen \">🌶️</span>\n",
    "\n",
    "In the tutorial, we talked about deciding whether we're prepared for the weather. I said that I'm safe from today's weather if...\n",
    "- I have an umbrella...\n",
    "- or if the rain isn't too heavy and I have a hood...\n",
    "- otherwise, I'm still fine unless it's raining *and* it's a workday\n",
    "\n",
    "The function below uses our first attempt at turning this logic into a Python expression. I claimed that there was a bug in that code. Can you find it?\n",
    "\n",
    "To prove that `prepared_for_weather` is buggy, come up with a set of inputs where either:\n",
    "- the function returns `False` (but should have returned `True`), or\n",
    "- the function returned `True` (but should have returned `False`).\n",
    "\n",
    "To get credit for completing this question, your code should return a <font color='#33cc33'>Correct</font> result."
   ]
  },
  {
   "cell_type": "code",
   "execution_count": 8,
   "id": "2dafc22d",
   "metadata": {
    "execution": {
     "iopub.execute_input": "2021-09-02T13:44:23.677946Z",
     "iopub.status.busy": "2021-09-02T13:44:23.677012Z",
     "iopub.status.idle": "2021-09-02T13:44:23.688793Z",
     "shell.execute_reply": "2021-09-02T13:44:23.688295Z"
    },
    "papermill": {
     "duration": 0.03853,
     "end_time": "2021-09-02T13:44:23.688925",
     "exception": false,
     "start_time": "2021-09-02T13:44:23.650395",
     "status": "completed"
    },
    "tags": []
   },
   "outputs": [
    {
     "name": "stdout",
     "output_type": "stream",
     "text": [
      "True\n"
     ]
    },
    {
     "data": {
      "application/javascript": [
       "parent.postMessage({\"jupyterEvent\": \"custom.exercise_interaction\", \"data\": {\"outcomeType\": 2, \"failureMessage\": \"Given `have_umbrella=True`, `rain_level=0.0`, `have_hood=True`, `is_workday=True`, `prepared_for_weather` returned `True`. But I think that's correct. (We want inputs that lead to an incorrect result from `prepared_for_weather`.)\", \"interactionType\": 1, \"questionType\": 1, \"questionId\": \"3_WeatherDebug\", \"learnToolsVersion\": \"0.3.4\", \"valueTowardsCompletion\": 0.0, \"exceptionClass\": \"\", \"trace\": \"\"}}, \"*\")"
      ],
      "text/plain": [
       "<IPython.core.display.Javascript object>"
      ]
     },
     "metadata": {},
     "output_type": "display_data"
    },
    {
     "data": {
      "text/markdown": [
       "<span style=\"color:#cc3333\">Incorrect:</span> Given `have_umbrella=True`, `rain_level=0.0`, `have_hood=True`, `is_workday=True`, `prepared_for_weather` returned `True`. But I think that's correct. (We want inputs that lead to an incorrect result from `prepared_for_weather`.)"
      ],
      "text/plain": [
       "Incorrect: Given `have_umbrella=True`, `rain_level=0.0`, `have_hood=True`, `is_workday=True`, `prepared_for_weather` returned `True`. But I think that's correct. (We want inputs that lead to an incorrect result from `prepared_for_weather`.)"
      ]
     },
     "metadata": {},
     "output_type": "display_data"
    }
   ],
   "source": [
    "def prepared_for_weather(have_umbrella, rain_level, have_hood, is_workday):\n",
    "    # Don't change this code. Our goal is just to find the bug, not fix it!\n",
    "    return have_umbrella or rain_level < 5 and have_hood or not rain_level > 0 and is_workday\n",
    "\n",
    "# Change the values of these inputs so they represent a case where prepared_for_weather\n",
    "# returns the wrong answer.\n",
    "have_umbrella = True\n",
    "rain_level = 0.0\n",
    "have_hood = True\n",
    "is_workday = True\n",
    "\n",
    "# Check what the function returns given the current values of the variables above\n",
    "actual = prepared_for_weather(have_umbrella, rain_level, have_hood, is_workday)\n",
    "print(actual)\n",
    "\n",
    "# Check your answer\n",
    "q3.check()"
   ]
  },
  {
   "cell_type": "code",
   "execution_count": 9,
   "id": "74745ee6",
   "metadata": {
    "execution": {
     "iopub.execute_input": "2021-09-02T13:44:23.743902Z",
     "iopub.status.busy": "2021-09-02T13:44:23.743019Z",
     "iopub.status.idle": "2021-09-02T13:44:23.745913Z",
     "shell.execute_reply": "2021-09-02T13:44:23.745439Z"
    },
    "papermill": {
     "duration": 0.031697,
     "end_time": "2021-09-02T13:44:23.746044",
     "exception": false,
     "start_time": "2021-09-02T13:44:23.714347",
     "status": "completed"
    },
    "tags": []
   },
   "outputs": [],
   "source": [
    "#q3.hint()\n",
    "#q3.solution()"
   ]
  },
  {
   "cell_type": "markdown",
   "id": "5cd03aaf",
   "metadata": {
    "papermill": {
     "duration": 0.02518,
     "end_time": "2021-09-02T13:44:23.796618",
     "exception": false,
     "start_time": "2021-09-02T13:44:23.771438",
     "status": "completed"
    },
    "tags": []
   },
   "source": [
    "# 4.\n",
    "\n",
    "The function `is_negative` below is implemented correctly - it returns True if the given number is negative and False otherwise.\n",
    "\n",
    "However, it's more verbose than it needs to be. We can actually reduce the number of lines of code in this function by *75%* while keeping the same behaviour. \n",
    "\n",
    "See if you can come up with an equivalent body that uses just **one line** of code, and put it in the function `concise_is_negative`. (HINT: you don't even need Python's ternary syntax)"
   ]
  },
  {
   "cell_type": "code",
   "execution_count": 10,
   "id": "53abbdce",
   "metadata": {
    "execution": {
     "iopub.execute_input": "2021-09-02T13:44:23.852642Z",
     "iopub.status.busy": "2021-09-02T13:44:23.851947Z",
     "iopub.status.idle": "2021-09-02T13:44:23.858279Z",
     "shell.execute_reply": "2021-09-02T13:44:23.857767Z"
    },
    "papermill": {
     "duration": 0.036268,
     "end_time": "2021-09-02T13:44:23.858415",
     "exception": false,
     "start_time": "2021-09-02T13:44:23.822147",
     "status": "completed"
    },
    "tags": []
   },
   "outputs": [
    {
     "data": {
      "application/javascript": [
       "parent.postMessage({\"jupyterEvent\": \"custom.exercise_interaction\", \"data\": {\"outcomeType\": 4, \"interactionType\": 1, \"questionType\": 2, \"questionId\": \"4_ConciseIsNegative\", \"learnToolsVersion\": \"0.3.4\", \"valueTowardsCompletion\": 0.0, \"failureMessage\": \"\", \"exceptionClass\": \"\", \"trace\": \"\"}}, \"*\")"
      ],
      "text/plain": [
       "<IPython.core.display.Javascript object>"
      ]
     },
     "metadata": {},
     "output_type": "display_data"
    },
    {
     "data": {
      "text/markdown": [
       "<span style=\"color:#ccaa33\">Check:</span> When you've updated the starter code, `check()` will tell you whether your code is correct. "
      ],
      "text/plain": [
       "Check: When you've updated the starter code, `check()` will tell you whether your code is correct. "
      ]
     },
     "metadata": {},
     "output_type": "display_data"
    }
   ],
   "source": [
    "def is_negative(number):\n",
    "    if number < 0:\n",
    "        return True\n",
    "    else:\n",
    "        return False\n",
    "\n",
    "def concise_is_negative(number):\n",
    "    pass # Your code goes here (try to keep it to one line!)\n",
    "\n",
    "# Check your answer\n",
    "q4.check()"
   ]
  },
  {
   "cell_type": "code",
   "execution_count": 11,
   "id": "8aa2fa94",
   "metadata": {
    "execution": {
     "iopub.execute_input": "2021-09-02T13:44:23.923120Z",
     "iopub.status.busy": "2021-09-02T13:44:23.922109Z",
     "iopub.status.idle": "2021-09-02T13:44:23.924383Z",
     "shell.execute_reply": "2021-09-02T13:44:23.924948Z"
    },
    "papermill": {
     "duration": 0.040517,
     "end_time": "2021-09-02T13:44:23.925190",
     "exception": false,
     "start_time": "2021-09-02T13:44:23.884673",
     "status": "completed"
    },
    "tags": []
   },
   "outputs": [],
   "source": [
    "#q4.hint()\n",
    "#q4.solution()"
   ]
  },
  {
   "cell_type": "markdown",
   "id": "c007144b",
   "metadata": {
    "papermill": {
     "duration": 0.02867,
     "end_time": "2021-09-02T13:44:23.985557",
     "exception": false,
     "start_time": "2021-09-02T13:44:23.956887",
     "status": "completed"
    },
    "tags": []
   },
   "source": [
    "# 5a.\n",
    "\n",
    "The boolean variables `ketchup`, `mustard` and `onion` represent whether a customer wants a particular topping on their hot dog. We want to implement a number of boolean functions that correspond to some yes-or-no questions about the customer's order. For example:"
   ]
  },
  {
   "cell_type": "code",
   "execution_count": 12,
   "id": "1e5f5fc9",
   "metadata": {
    "execution": {
     "iopub.execute_input": "2021-09-02T13:44:24.047929Z",
     "iopub.status.busy": "2021-09-02T13:44:24.046941Z",
     "iopub.status.idle": "2021-09-02T13:44:24.051421Z",
     "shell.execute_reply": "2021-09-02T13:44:24.050902Z"
    },
    "papermill": {
     "duration": 0.034739,
     "end_time": "2021-09-02T13:44:24.051554",
     "exception": false,
     "start_time": "2021-09-02T13:44:24.016815",
     "status": "completed"
    },
    "tags": []
   },
   "outputs": [],
   "source": [
    "def onionless(ketchup, mustard, onion):\n",
    "    \"\"\"Return whether the customer doesn't want onions.\n",
    "    \"\"\"\n",
    "    return not onion"
   ]
  },
  {
   "cell_type": "code",
   "execution_count": 13,
   "id": "24d7c86d",
   "metadata": {
    "execution": {
     "iopub.execute_input": "2021-09-02T13:44:24.110720Z",
     "iopub.status.busy": "2021-09-02T13:44:24.109966Z",
     "iopub.status.idle": "2021-09-02T13:44:24.114987Z",
     "shell.execute_reply": "2021-09-02T13:44:24.115459Z"
    },
    "papermill": {
     "duration": 0.037052,
     "end_time": "2021-09-02T13:44:24.115615",
     "exception": false,
     "start_time": "2021-09-02T13:44:24.078563",
     "status": "completed"
    },
    "tags": []
   },
   "outputs": [
    {
     "data": {
      "application/javascript": [
       "parent.postMessage({\"jupyterEvent\": \"custom.exercise_interaction\", \"data\": {\"outcomeType\": 4, \"interactionType\": 1, \"questionType\": 2, \"questionId\": \"5.1_AllToppings\", \"learnToolsVersion\": \"0.3.4\", \"valueTowardsCompletion\": 0.0, \"failureMessage\": \"\", \"exceptionClass\": \"\", \"trace\": \"\"}}, \"*\")"
      ],
      "text/plain": [
       "<IPython.core.display.Javascript object>"
      ]
     },
     "metadata": {},
     "output_type": "display_data"
    },
    {
     "data": {
      "text/markdown": [
       "<span style=\"color:#ccaa33\">Check:</span> When you've updated the starter code, `check()` will tell you whether your code is correct. "
      ],
      "text/plain": [
       "Check: When you've updated the starter code, `check()` will tell you whether your code is correct. "
      ]
     },
     "metadata": {},
     "output_type": "display_data"
    }
   ],
   "source": [
    "def wants_all_toppings(ketchup, mustard, onion):\n",
    "    \"\"\"Return whether the customer wants \"the works\" (all 3 toppings)\n",
    "    \"\"\"\n",
    "    pass\n",
    "\n",
    "# Check your answer\n",
    "q5.a.check()"
   ]
  },
  {
   "cell_type": "code",
   "execution_count": 14,
   "id": "4f55cd58",
   "metadata": {
    "execution": {
     "iopub.execute_input": "2021-09-02T13:44:24.174548Z",
     "iopub.status.busy": "2021-09-02T13:44:24.173699Z",
     "iopub.status.idle": "2021-09-02T13:44:24.176713Z",
     "shell.execute_reply": "2021-09-02T13:44:24.177163Z"
    },
    "papermill": {
     "duration": 0.034296,
     "end_time": "2021-09-02T13:44:24.177319",
     "exception": false,
     "start_time": "2021-09-02T13:44:24.143023",
     "status": "completed"
    },
    "tags": []
   },
   "outputs": [],
   "source": [
    "#q5.a.hint()\n",
    "#q5.a.solution()"
   ]
  },
  {
   "cell_type": "markdown",
   "id": "231688a4",
   "metadata": {
    "papermill": {
     "duration": 0.02656,
     "end_time": "2021-09-02T13:44:24.230575",
     "exception": false,
     "start_time": "2021-09-02T13:44:24.204015",
     "status": "completed"
    },
    "tags": []
   },
   "source": [
    "# 5b.\n",
    "\n",
    "For the next function, fill in the body to match the English description in the docstring. "
   ]
  },
  {
   "cell_type": "code",
   "execution_count": 15,
   "id": "2a6389be",
   "metadata": {
    "execution": {
     "iopub.execute_input": "2021-09-02T13:44:24.287636Z",
     "iopub.status.busy": "2021-09-02T13:44:24.286728Z",
     "iopub.status.idle": "2021-09-02T13:44:24.293797Z",
     "shell.execute_reply": "2021-09-02T13:44:24.294281Z"
    },
    "papermill": {
     "duration": 0.037071,
     "end_time": "2021-09-02T13:44:24.294441",
     "exception": false,
     "start_time": "2021-09-02T13:44:24.257370",
     "status": "completed"
    },
    "tags": []
   },
   "outputs": [
    {
     "data": {
      "application/javascript": [
       "parent.postMessage({\"jupyterEvent\": \"custom.exercise_interaction\", \"data\": {\"outcomeType\": 4, \"interactionType\": 1, \"questionType\": 2, \"questionId\": \"5.2_PlainDog\", \"learnToolsVersion\": \"0.3.4\", \"valueTowardsCompletion\": 0.0, \"failureMessage\": \"\", \"exceptionClass\": \"\", \"trace\": \"\"}}, \"*\")"
      ],
      "text/plain": [
       "<IPython.core.display.Javascript object>"
      ]
     },
     "metadata": {},
     "output_type": "display_data"
    },
    {
     "data": {
      "text/markdown": [
       "<span style=\"color:#ccaa33\">Check:</span> When you've updated the starter code, `check()` will tell you whether your code is correct. "
      ],
      "text/plain": [
       "Check: When you've updated the starter code, `check()` will tell you whether your code is correct. "
      ]
     },
     "metadata": {},
     "output_type": "display_data"
    }
   ],
   "source": [
    "def wants_plain_hotdog(ketchup, mustard, onion):\n",
    "    \"\"\"Return whether the customer wants a plain hot dog with no toppings.\n",
    "    \"\"\"\n",
    "    pass\n",
    "\n",
    "# Check your answer\n",
    "q5.b.check()"
   ]
  },
  {
   "cell_type": "code",
   "execution_count": 16,
   "id": "a6cb4f81",
   "metadata": {
    "execution": {
     "iopub.execute_input": "2021-09-02T13:44:24.353330Z",
     "iopub.status.busy": "2021-09-02T13:44:24.352727Z",
     "iopub.status.idle": "2021-09-02T13:44:24.355262Z",
     "shell.execute_reply": "2021-09-02T13:44:24.355702Z"
    },
    "papermill": {
     "duration": 0.033697,
     "end_time": "2021-09-02T13:44:24.355871",
     "exception": false,
     "start_time": "2021-09-02T13:44:24.322174",
     "status": "completed"
    },
    "tags": []
   },
   "outputs": [],
   "source": [
    "#q5.b.hint()\n",
    "#q5.b.solution()"
   ]
  },
  {
   "cell_type": "markdown",
   "id": "6510d15d",
   "metadata": {
    "papermill": {
     "duration": 0.028515,
     "end_time": "2021-09-02T13:44:24.413843",
     "exception": false,
     "start_time": "2021-09-02T13:44:24.385328",
     "status": "completed"
    },
    "tags": []
   },
   "source": [
    "# 5c.\n",
    "\n",
    "You know what to do: for the next function, fill in the body to match the English description in the docstring."
   ]
  },
  {
   "cell_type": "code",
   "execution_count": 17,
   "id": "0afb2dcb",
   "metadata": {
    "execution": {
     "iopub.execute_input": "2021-09-02T13:44:24.473920Z",
     "iopub.status.busy": "2021-09-02T13:44:24.473314Z",
     "iopub.status.idle": "2021-09-02T13:44:24.479797Z",
     "shell.execute_reply": "2021-09-02T13:44:24.479307Z"
    },
    "papermill": {
     "duration": 0.037549,
     "end_time": "2021-09-02T13:44:24.479929",
     "exception": false,
     "start_time": "2021-09-02T13:44:24.442380",
     "status": "completed"
    },
    "tags": []
   },
   "outputs": [
    {
     "data": {
      "application/javascript": [
       "parent.postMessage({\"jupyterEvent\": \"custom.exercise_interaction\", \"data\": {\"outcomeType\": 4, \"interactionType\": 1, \"questionType\": 2, \"questionId\": \"5.3_OneSauce\", \"learnToolsVersion\": \"0.3.4\", \"valueTowardsCompletion\": 0.0, \"failureMessage\": \"\", \"exceptionClass\": \"\", \"trace\": \"\"}}, \"*\")"
      ],
      "text/plain": [
       "<IPython.core.display.Javascript object>"
      ]
     },
     "metadata": {},
     "output_type": "display_data"
    },
    {
     "data": {
      "text/markdown": [
       "<span style=\"color:#ccaa33\">Check:</span> When you've updated the starter code, `check()` will tell you whether your code is correct. "
      ],
      "text/plain": [
       "Check: When you've updated the starter code, `check()` will tell you whether your code is correct. "
      ]
     },
     "metadata": {},
     "output_type": "display_data"
    }
   ],
   "source": [
    "def exactly_one_sauce(ketchup, mustard, onion):\n",
    "    \"\"\"Return whether the customer wants either ketchup or mustard, but not both.\n",
    "    (You may be familiar with this operation under the name \"exclusive or\")\n",
    "    \"\"\"\n",
    "    pass\n",
    "\n",
    "# Check your answer\n",
    "q5.c.check()"
   ]
  },
  {
   "cell_type": "code",
   "execution_count": 18,
   "id": "1349c382",
   "metadata": {
    "execution": {
     "iopub.execute_input": "2021-09-02T13:44:24.541433Z",
     "iopub.status.busy": "2021-09-02T13:44:24.540812Z",
     "iopub.status.idle": "2021-09-02T13:44:24.543536Z",
     "shell.execute_reply": "2021-09-02T13:44:24.543101Z"
    },
    "papermill": {
     "duration": 0.034868,
     "end_time": "2021-09-02T13:44:24.543661",
     "exception": false,
     "start_time": "2021-09-02T13:44:24.508793",
     "status": "completed"
    },
    "tags": []
   },
   "outputs": [],
   "source": [
    "#q5.c.hint()\n",
    "#q5.c.solution()"
   ]
  },
  {
   "cell_type": "markdown",
   "id": "60ae6c9d",
   "metadata": {
    "papermill": {
     "duration": 0.028301,
     "end_time": "2021-09-02T13:44:24.600547",
     "exception": false,
     "start_time": "2021-09-02T13:44:24.572246",
     "status": "completed"
    },
    "tags": []
   },
   "source": [
    "# 6. <span title=\"A bit spicy\" style=\"color: darkgreen \">🌶️</span>\n",
    "\n",
    "We’ve seen that calling `bool()` on an integer returns `False` if it’s equal to 0 and `True` otherwise. What happens if we call `int()` on a bool? Try it out in the notebook cell below.\n",
    "\n",
    "Can you take advantage of this to write a succinct function that corresponds to the English sentence \"does the customer want exactly one topping?\"?"
   ]
  },
  {
   "cell_type": "code",
   "execution_count": 19,
   "id": "e098c4d0",
   "metadata": {
    "execution": {
     "iopub.execute_input": "2021-09-02T13:44:24.662992Z",
     "iopub.status.busy": "2021-09-02T13:44:24.662406Z",
     "iopub.status.idle": "2021-09-02T13:44:24.666208Z",
     "shell.execute_reply": "2021-09-02T13:44:24.666684Z"
    },
    "papermill": {
     "duration": 0.037795,
     "end_time": "2021-09-02T13:44:24.666841",
     "exception": false,
     "start_time": "2021-09-02T13:44:24.629046",
     "status": "completed"
    },
    "tags": []
   },
   "outputs": [
    {
     "data": {
      "application/javascript": [
       "parent.postMessage({\"jupyterEvent\": \"custom.exercise_interaction\", \"data\": {\"outcomeType\": 4, \"interactionType\": 1, \"questionType\": 2, \"questionId\": \"6_OneTopping\", \"learnToolsVersion\": \"0.3.4\", \"valueTowardsCompletion\": 0.0, \"failureMessage\": \"\", \"exceptionClass\": \"\", \"trace\": \"\"}}, \"*\")"
      ],
      "text/plain": [
       "<IPython.core.display.Javascript object>"
      ]
     },
     "metadata": {},
     "output_type": "display_data"
    },
    {
     "data": {
      "text/markdown": [
       "<span style=\"color:#ccaa33\">Check:</span> When you've updated the starter code, `check()` will tell you whether your code is correct. "
      ],
      "text/plain": [
       "Check: When you've updated the starter code, `check()` will tell you whether your code is correct. "
      ]
     },
     "metadata": {},
     "output_type": "display_data"
    }
   ],
   "source": [
    "def exactly_one_topping(ketchup, mustard, onion):\n",
    "    \"\"\"Return whether the customer wants exactly one of the three available toppings\n",
    "    on their hot dog.\n",
    "    \"\"\"\n",
    "    pass\n",
    "\n",
    "# Check your answer\n",
    "q6.check()"
   ]
  },
  {
   "cell_type": "code",
   "execution_count": 20,
   "id": "ac9293e4",
   "metadata": {
    "execution": {
     "iopub.execute_input": "2021-09-02T13:44:24.728440Z",
     "iopub.status.busy": "2021-09-02T13:44:24.727822Z",
     "iopub.status.idle": "2021-09-02T13:44:24.730598Z",
     "shell.execute_reply": "2021-09-02T13:44:24.731104Z"
    },
    "papermill": {
     "duration": 0.034947,
     "end_time": "2021-09-02T13:44:24.731268",
     "exception": false,
     "start_time": "2021-09-02T13:44:24.696321",
     "status": "completed"
    },
    "tags": []
   },
   "outputs": [],
   "source": [
    "#q6.hint()\n",
    "#q6.solution()"
   ]
  },
  {
   "cell_type": "markdown",
   "id": "00ad39c5",
   "metadata": {
    "papermill": {
     "duration": 0.030207,
     "end_time": "2021-09-02T13:44:24.791383",
     "exception": false,
     "start_time": "2021-09-02T13:44:24.761176",
     "status": "completed"
    },
    "tags": []
   },
   "source": [
    "# 7. <span title=\"A bit spicy\" style=\"color: darkgreen \">🌶️</span> (Optional)\n",
    "\n",
    "In this problem we'll be working with a simplified version of [blackjack](https://en.wikipedia.org/wiki/Blackjack) (aka twenty-one). In this version there is one player (who you'll control) and a dealer. Play proceeds as follows:\n",
    "\n",
    "- The player is dealt two face-up cards. The dealer is dealt one face-up card.\n",
    "- The player may ask to be dealt another card ('hit') as many times as they wish. If the sum of their cards exceeds 21, they lose the round immediately.\n",
    "- The dealer then deals additional cards to himself until either:\n",
    "    - the sum of the dealer's cards exceeds 21, in which case the player wins the round\n",
    "    - the sum of the dealer's cards is greater than or equal to 17. If the player's total is greater than the dealer's, the player wins. Otherwise, the dealer wins (even in case of a tie).\n",
    "    \n",
    "When calculating the sum of cards, Jack, Queen, and King count for 10. Aces can count as 1 or 11 (when referring to a player's \"total\" above, we mean the largest total that can be made without exceeding 21. So e.g. A+8 = 19, A+8+8 = 17)\n",
    "\n",
    "For this problem, you'll write a function representing the player's decision-making strategy in this game. We've provided a very unintelligent implementation below:"
   ]
  },
  {
   "cell_type": "code",
   "execution_count": 21,
   "id": "6c52eea4",
   "metadata": {
    "execution": {
     "iopub.execute_input": "2021-09-02T13:44:24.854329Z",
     "iopub.status.busy": "2021-09-02T13:44:24.853735Z",
     "iopub.status.idle": "2021-09-02T13:44:24.857219Z",
     "shell.execute_reply": "2021-09-02T13:44:24.857705Z"
    },
    "papermill": {
     "duration": 0.036342,
     "end_time": "2021-09-02T13:44:24.857867",
     "exception": false,
     "start_time": "2021-09-02T13:44:24.821525",
     "status": "completed"
    },
    "tags": []
   },
   "outputs": [],
   "source": [
    "def should_hit(dealer_total, player_total, player_low_aces, player_high_aces):\n",
    "    \"\"\"Return True if the player should hit (request another card) given the current game\n",
    "    state, or False if the player should stay.\n",
    "    When calculating a hand's total value, we count aces as \"high\" (with value 11) if doing so\n",
    "    doesn't bring the total above 21, otherwise we count them as low (with value 1). \n",
    "    For example, if the player's hand is {A, A, A, 7}, we will count it as 11 + 1 + 1 + 7,\n",
    "    and therefore set player_total=20, player_low_aces=2, player_high_aces=1.\n",
    "    \"\"\"\n",
    "    return False"
   ]
  },
  {
   "cell_type": "markdown",
   "id": "7d8885c8",
   "metadata": {
    "papermill": {
     "duration": 0.029711,
     "end_time": "2021-09-02T13:44:24.917631",
     "exception": false,
     "start_time": "2021-09-02T13:44:24.887920",
     "status": "completed"
    },
    "tags": []
   },
   "source": [
    "This very conservative agent *always* sticks with the hand of two cards that they're dealt.\n",
    "\n",
    "We'll be simulating games between your player agent and our own dealer agent by calling your function.\n",
    "\n",
    "Try running the function below to see an example of a simulated game:"
   ]
  },
  {
   "cell_type": "code",
   "execution_count": 22,
   "id": "64567119",
   "metadata": {
    "execution": {
     "iopub.execute_input": "2021-09-02T13:44:24.980885Z",
     "iopub.status.busy": "2021-09-02T13:44:24.980313Z",
     "iopub.status.idle": "2021-09-02T13:44:24.986221Z",
     "shell.execute_reply": "2021-09-02T13:44:24.986835Z"
    },
    "papermill": {
     "duration": 0.039287,
     "end_time": "2021-09-02T13:44:24.987060",
     "exception": false,
     "start_time": "2021-09-02T13:44:24.947773",
     "status": "completed"
    },
    "tags": []
   },
   "outputs": [
    {
     "name": "stdout",
     "output_type": "stream",
     "text": [
      "Player starts with J and 8 (total = 18)\n",
      "Dealer starts with 9\n",
      "\n",
      "__Player's turn__\n",
      "Player stays\n",
      "\n",
      "__Dealer's turn__\n",
      "Dealer hits and receives 10. (total = 19)\n",
      "Dealer stands.\n",
      "Dealer wins. 19 >= 18\n"
     ]
    }
   ],
   "source": [
    "q7.simulate_one_game()"
   ]
  },
  {
   "cell_type": "markdown",
   "id": "7298e8ec",
   "metadata": {
    "papermill": {
     "duration": 0.029678,
     "end_time": "2021-09-02T13:44:25.047820",
     "exception": false,
     "start_time": "2021-09-02T13:44:25.018142",
     "status": "completed"
    },
    "tags": []
   },
   "source": [
    "The real test of your agent's mettle is their average win rate over many games. Try calling the function below to simulate 50000 games of blackjack (it may take a couple seconds):"
   ]
  },
  {
   "cell_type": "code",
   "execution_count": 23,
   "id": "1a3212d7",
   "metadata": {
    "execution": {
     "iopub.execute_input": "2021-09-02T13:44:25.136498Z",
     "iopub.status.busy": "2021-09-02T13:44:25.126238Z",
     "iopub.status.idle": "2021-09-02T13:44:26.349367Z",
     "shell.execute_reply": "2021-09-02T13:44:26.348873Z"
    },
    "papermill": {
     "duration": 1.271773,
     "end_time": "2021-09-02T13:44:26.349506",
     "exception": false,
     "start_time": "2021-09-02T13:44:25.077733",
     "status": "completed"
    },
    "tags": []
   },
   "outputs": [
    {
     "name": "stdout",
     "output_type": "stream",
     "text": [
      "Player won 19013 out of 50000 games (win rate = 38.0%)\n"
     ]
    }
   ],
   "source": [
    "q7.simulate(n_games=50000)"
   ]
  },
  {
   "cell_type": "markdown",
   "id": "d442f636",
   "metadata": {
    "papermill": {
     "duration": 0.031332,
     "end_time": "2021-09-02T13:44:26.411593",
     "exception": false,
     "start_time": "2021-09-02T13:44:26.380261",
     "status": "completed"
    },
    "tags": []
   },
   "source": [
    "Our dumb agent that completely ignores the game state still manages to win shockingly often!\n",
    "\n",
    "Try adding some more smarts to the `should_hit` function and see how it affects the results."
   ]
  },
  {
   "cell_type": "code",
   "execution_count": 24,
   "id": "d3211a4d",
   "metadata": {
    "execution": {
     "iopub.execute_input": "2021-09-02T13:44:26.500671Z",
     "iopub.status.busy": "2021-09-02T13:44:26.479804Z",
     "iopub.status.idle": "2021-09-02T13:44:27.705990Z",
     "shell.execute_reply": "2021-09-02T13:44:27.706692Z"
    },
    "papermill": {
     "duration": 1.265149,
     "end_time": "2021-09-02T13:44:27.706913",
     "exception": false,
     "start_time": "2021-09-02T13:44:26.441764",
     "status": "completed"
    },
    "tags": []
   },
   "outputs": [
    {
     "name": "stdout",
     "output_type": "stream",
     "text": [
      "Player won 19052 out of 50000 games (win rate = 38.1%)\n"
     ]
    }
   ],
   "source": [
    "def should_hit(dealer_total, player_total, player_low_aces, player_high_aces):\n",
    "    \"\"\"Return True if the player should hit (request another card) given the current game\n",
    "    state, or False if the player should stay.\n",
    "    When calculating a hand's total value, we count aces as \"high\" (with value 11) if doing so\n",
    "    doesn't bring the total above 21, otherwise we count them as low (with value 1). \n",
    "    For example, if the player's hand is {A, A, A, 7}, we will count it as 11 + 1 + 1 + 7,\n",
    "    and therefore set player_total=20, player_low_aces=2, player_high_aces=1.\n",
    "    \"\"\"\n",
    "    return False\n",
    "\n",
    "q7.simulate(n_games=50000)"
   ]
  },
  {
   "cell_type": "markdown",
   "id": "d58c71a7",
   "metadata": {
    "papermill": {
     "duration": 0.030394,
     "end_time": "2021-09-02T13:44:27.769667",
     "exception": false,
     "start_time": "2021-09-02T13:44:27.739273",
     "status": "completed"
    },
    "tags": []
   },
   "source": [
    "# Keep Going\n",
    "\n",
    "Learn about **[lists and tuples](https://www.kaggle.com/colinmorris/lists)** to handle multiple items of data in a systematic way."
   ]
  },
  {
   "cell_type": "markdown",
   "id": "e7e44279",
   "metadata": {
    "papermill": {
     "duration": 0.030306,
     "end_time": "2021-09-02T13:44:27.830631",
     "exception": false,
     "start_time": "2021-09-02T13:44:27.800325",
     "status": "completed"
    },
    "tags": []
   },
   "source": [
    "---\n",
    "\n",
    "\n",
    "\n",
    "\n",
    "*Have questions or comments? Visit the [Learn Discussion forum](https://www.kaggle.com/learn-forum/161283) to chat with other Learners.*"
   ]
  }
 ],
 "metadata": {
  "kernelspec": {
   "display_name": "Python 3",
   "language": "python",
   "name": "python3"
  },
  "language_info": {
   "codemirror_mode": {
    "name": "ipython",
    "version": 3
   },
   "file_extension": ".py",
   "mimetype": "text/x-python",
   "name": "python",
   "nbconvert_exporter": "python",
   "pygments_lexer": "ipython3",
   "version": "3.7.10"
  },
  "papermill": {
   "default_parameters": {},
   "duration": 13.830468,
   "end_time": "2021-09-02T13:44:29.392537",
   "environment_variables": {},
   "exception": null,
   "input_path": "__notebook__.ipynb",
   "output_path": "__notebook__.ipynb",
   "parameters": {},
   "start_time": "2021-09-02T13:44:15.562069",
   "version": "2.3.3"
  }
 },
 "nbformat": 4,
 "nbformat_minor": 5
}
