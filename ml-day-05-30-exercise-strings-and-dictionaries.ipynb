{
 "cells": [
  {
   "cell_type": "markdown",
   "id": "64a6ebf3",
   "metadata": {
    "papermill": {
     "duration": 0.017231,
     "end_time": "2021-09-02T13:45:09.465489",
     "exception": false,
     "start_time": "2021-09-02T13:45:09.448258",
     "status": "completed"
    },
    "tags": []
   },
   "source": [
    "**This notebook is an exercise in the [Python](https://www.kaggle.com/learn/python) course.  You can reference the tutorial at [this link](https://www.kaggle.com/colinmorris/strings-and-dictionaries).**\n",
    "\n",
    "---\n"
   ]
  },
  {
   "cell_type": "markdown",
   "id": "4614baea",
   "metadata": {
    "papermill": {
     "duration": 0.015828,
     "end_time": "2021-09-02T13:45:09.499520",
     "exception": false,
     "start_time": "2021-09-02T13:45:09.483692",
     "status": "completed"
    },
    "tags": []
   },
   "source": [
    "You are almost done with the course. Nice job!\n",
    "\n",
    "We have a couple more interesting problems for you before you go. \n",
    "\n",
    "As always, run the setup code below before working on the questions."
   ]
  },
  {
   "cell_type": "code",
   "execution_count": 1,
   "id": "bac5fa23",
   "metadata": {
    "execution": {
     "iopub.execute_input": "2021-09-02T13:45:09.536310Z",
     "iopub.status.busy": "2021-09-02T13:45:09.535140Z",
     "iopub.status.idle": "2021-09-02T13:45:09.682968Z",
     "shell.execute_reply": "2021-09-02T13:45:09.683697Z",
     "shell.execute_reply.started": "2021-08-07T17:27:27.564252Z"
    },
    "papermill": {
     "duration": 0.168226,
     "end_time": "2021-09-02T13:45:09.684094",
     "exception": false,
     "start_time": "2021-09-02T13:45:09.515868",
     "status": "completed"
    },
    "tags": []
   },
   "outputs": [
    {
     "name": "stdout",
     "output_type": "stream",
     "text": [
      "Setup complete.\n"
     ]
    }
   ],
   "source": [
    "from learntools.core import binder; binder.bind(globals())\n",
    "from learntools.python.ex6 import *\n",
    "print('Setup complete.')"
   ]
  },
  {
   "cell_type": "markdown",
   "id": "a40a7662",
   "metadata": {
    "papermill": {
     "duration": 0.016415,
     "end_time": "2021-09-02T13:45:09.717761",
     "exception": false,
     "start_time": "2021-09-02T13:45:09.701346",
     "status": "completed"
    },
    "tags": []
   },
   "source": [
    "Let's start with a string lightning round to warm up. What are the lengths of the strings below?\n",
    "\n",
    "For each of the five strings below, predict what `len()` would return when passed that string. Use the variable `length` to record your answer, then run the cell to check whether you were right.  \n",
    "\n",
    "# 0a."
   ]
  },
  {
   "cell_type": "code",
   "execution_count": 2,
   "id": "753d53a7",
   "metadata": {
    "execution": {
     "iopub.execute_input": "2021-09-02T13:45:09.758589Z",
     "iopub.status.busy": "2021-09-02T13:45:09.757913Z",
     "iopub.status.idle": "2021-09-02T13:45:09.763626Z",
     "shell.execute_reply": "2021-09-02T13:45:09.764167Z",
     "shell.execute_reply.started": "2021-08-07T17:28:03.874754Z"
    },
    "papermill": {
     "duration": 0.029809,
     "end_time": "2021-09-02T13:45:09.764334",
     "exception": false,
     "start_time": "2021-09-02T13:45:09.734525",
     "status": "completed"
    },
    "tags": []
   },
   "outputs": [
    {
     "data": {
      "application/javascript": [
       "parent.postMessage({\"jupyterEvent\": \"custom.exercise_interaction\", \"data\": {\"outcomeType\": 1, \"valueTowardsCompletion\": 0.3333333333333333, \"interactionType\": 1, \"questionType\": 1, \"questionId\": \"0.1_ZA\", \"learnToolsVersion\": \"0.3.4\", \"failureMessage\": \"\", \"exceptionClass\": \"\", \"trace\": \"\"}}, \"*\")"
      ],
      "text/plain": [
       "<IPython.core.display.Javascript object>"
      ]
     },
     "metadata": {},
     "output_type": "display_data"
    },
    {
     "data": {
      "text/markdown": [
       "<span style=\"color:#33cc33\">Correct:</span> \n",
       "\n",
       "The empty string has length zero. Note that the empty string is also the only string that Python considers as False when converting to boolean."
      ],
      "text/plain": [
       "Correct: \n",
       "\n",
       "The empty string has length zero. Note that the empty string is also the only string that Python considers as False when converting to boolean."
      ]
     },
     "metadata": {},
     "output_type": "display_data"
    }
   ],
   "source": [
    "a = \"\"\n",
    "length = len(a)\n",
    "q0.a.check()"
   ]
  },
  {
   "cell_type": "markdown",
   "id": "88e72dc8",
   "metadata": {
    "papermill": {
     "duration": 0.017346,
     "end_time": "2021-09-02T13:45:09.799356",
     "exception": false,
     "start_time": "2021-09-02T13:45:09.782010",
     "status": "completed"
    },
    "tags": []
   },
   "source": [
    "# 0b."
   ]
  },
  {
   "cell_type": "code",
   "execution_count": 3,
   "id": "7fcfaeb5",
   "metadata": {
    "execution": {
     "iopub.execute_input": "2021-09-02T13:45:09.839157Z",
     "iopub.status.busy": "2021-09-02T13:45:09.838219Z",
     "iopub.status.idle": "2021-09-02T13:45:09.846053Z",
     "shell.execute_reply": "2021-09-02T13:45:09.846561Z",
     "shell.execute_reply.started": "2021-08-07T17:28:16.521877Z"
    },
    "papermill": {
     "duration": 0.029064,
     "end_time": "2021-09-02T13:45:09.846725",
     "exception": false,
     "start_time": "2021-09-02T13:45:09.817661",
     "status": "completed"
    },
    "tags": []
   },
   "outputs": [
    {
     "data": {
      "application/javascript": [
       "parent.postMessage({\"jupyterEvent\": \"custom.exercise_interaction\", \"data\": {\"outcomeType\": 1, \"valueTowardsCompletion\": 0.3333333333333333, \"interactionType\": 1, \"questionType\": 1, \"questionId\": \"0.2_ZB\", \"learnToolsVersion\": \"0.3.4\", \"failureMessage\": \"\", \"exceptionClass\": \"\", \"trace\": \"\"}}, \"*\")"
      ],
      "text/plain": [
       "<IPython.core.display.Javascript object>"
      ]
     },
     "metadata": {},
     "output_type": "display_data"
    },
    {
     "data": {
      "text/markdown": [
       "<span style=\"color:#33cc33\">Correct:</span> \n",
       "\n",
       "Keep in mind Python includes spaces (and punctuation) when counting string length."
      ],
      "text/plain": [
       "Correct: \n",
       "\n",
       "Keep in mind Python includes spaces (and punctuation) when counting string length."
      ]
     },
     "metadata": {},
     "output_type": "display_data"
    }
   ],
   "source": [
    "b = \"it's ok\"\n",
    "length = len(b)\n",
    "q0.b.check()"
   ]
  },
  {
   "cell_type": "markdown",
   "id": "00feb43d",
   "metadata": {
    "papermill": {
     "duration": 0.01766,
     "end_time": "2021-09-02T13:45:09.882594",
     "exception": false,
     "start_time": "2021-09-02T13:45:09.864934",
     "status": "completed"
    },
    "tags": []
   },
   "source": [
    "# 0c."
   ]
  },
  {
   "cell_type": "code",
   "execution_count": 4,
   "id": "62901e42",
   "metadata": {
    "execution": {
     "iopub.execute_input": "2021-09-02T13:45:09.923550Z",
     "iopub.status.busy": "2021-09-02T13:45:09.922530Z",
     "iopub.status.idle": "2021-09-02T13:45:09.930712Z",
     "shell.execute_reply": "2021-09-02T13:45:09.931277Z",
     "shell.execute_reply.started": "2021-08-07T17:28:23.384564Z"
    },
    "papermill": {
     "duration": 0.030213,
     "end_time": "2021-09-02T13:45:09.931436",
     "exception": false,
     "start_time": "2021-09-02T13:45:09.901223",
     "status": "completed"
    },
    "tags": []
   },
   "outputs": [
    {
     "data": {
      "application/javascript": [
       "parent.postMessage({\"jupyterEvent\": \"custom.exercise_interaction\", \"data\": {\"outcomeType\": 1, \"valueTowardsCompletion\": 0.3333333333333333, \"interactionType\": 1, \"questionType\": 1, \"questionId\": \"0.3_ZC\", \"learnToolsVersion\": \"0.3.4\", \"failureMessage\": \"\", \"exceptionClass\": \"\", \"trace\": \"\"}}, \"*\")"
      ],
      "text/plain": [
       "<IPython.core.display.Javascript object>"
      ]
     },
     "metadata": {},
     "output_type": "display_data"
    },
    {
     "data": {
      "text/markdown": [
       "<span style=\"color:#33cc33\">Correct:</span> \n",
       "\n",
       "Even though we use different syntax to create it, the string `c` is identical to `b`. In particular, note that the backslash is not part of the string, so it doesn't contribute to its length."
      ],
      "text/plain": [
       "Correct: \n",
       "\n",
       "Even though we use different syntax to create it, the string `c` is identical to `b`. In particular, note that the backslash is not part of the string, so it doesn't contribute to its length."
      ]
     },
     "metadata": {},
     "output_type": "display_data"
    }
   ],
   "source": [
    "c = 'it\\'s ok'\n",
    "length = len(c)\n",
    "q0.c.check()"
   ]
  },
  {
   "cell_type": "markdown",
   "id": "42aec238",
   "metadata": {
    "papermill": {
     "duration": 0.018564,
     "end_time": "2021-09-02T13:45:09.969496",
     "exception": false,
     "start_time": "2021-09-02T13:45:09.950932",
     "status": "completed"
    },
    "tags": []
   },
   "source": [
    "# 0d."
   ]
  },
  {
   "cell_type": "code",
   "execution_count": 5,
   "id": "b10660a8",
   "metadata": {
    "execution": {
     "iopub.execute_input": "2021-09-02T13:45:10.015015Z",
     "iopub.status.busy": "2021-09-02T13:45:10.014150Z",
     "iopub.status.idle": "2021-09-02T13:45:10.022694Z",
     "shell.execute_reply": "2021-09-02T13:45:10.023268Z",
     "shell.execute_reply.started": "2021-08-07T17:28:30.872346Z"
    },
    "papermill": {
     "duration": 0.033837,
     "end_time": "2021-09-02T13:45:10.023430",
     "exception": false,
     "start_time": "2021-09-02T13:45:09.989593",
     "status": "completed"
    },
    "tags": []
   },
   "outputs": [
    {
     "data": {
      "application/javascript": [
       "parent.postMessage({\"jupyterEvent\": \"custom.exercise_interaction\", \"data\": {\"outcomeType\": 1, \"valueTowardsCompletion\": 0.3333333333333333, \"interactionType\": 1, \"questionType\": 1, \"questionId\": \"0.4_ZD\", \"learnToolsVersion\": \"0.3.4\", \"failureMessage\": \"\", \"exceptionClass\": \"\", \"trace\": \"\"}}, \"*\")"
      ],
      "text/plain": [
       "<IPython.core.display.Javascript object>"
      ]
     },
     "metadata": {},
     "output_type": "display_data"
    },
    {
     "data": {
      "text/markdown": [
       "<span style=\"color:#33cc33\">Correct:</span> \n",
       "\n",
       "The fact that this string was created using triple-quote syntax doesn't make any difference in terms of its content or length. This string is exactly the same as `'hey'`."
      ],
      "text/plain": [
       "Correct: \n",
       "\n",
       "The fact that this string was created using triple-quote syntax doesn't make any difference in terms of its content or length. This string is exactly the same as `'hey'`."
      ]
     },
     "metadata": {},
     "output_type": "display_data"
    }
   ],
   "source": [
    "d = \"\"\"hey\"\"\"\n",
    "length = len(d)\n",
    "q0.d.check()"
   ]
  },
  {
   "cell_type": "markdown",
   "id": "1c30255b",
   "metadata": {
    "papermill": {
     "duration": 0.026207,
     "end_time": "2021-09-02T13:45:10.072697",
     "exception": false,
     "start_time": "2021-09-02T13:45:10.046490",
     "status": "completed"
    },
    "tags": []
   },
   "source": [
    "# 0e."
   ]
  },
  {
   "cell_type": "code",
   "execution_count": 6,
   "id": "411fdcd5",
   "metadata": {
    "execution": {
     "iopub.execute_input": "2021-09-02T13:45:10.118016Z",
     "iopub.status.busy": "2021-09-02T13:45:10.117375Z",
     "iopub.status.idle": "2021-09-02T13:45:10.124962Z",
     "shell.execute_reply": "2021-09-02T13:45:10.124460Z",
     "shell.execute_reply.started": "2021-08-07T17:29:17.934686Z"
    },
    "papermill": {
     "duration": 0.030305,
     "end_time": "2021-09-02T13:45:10.125114",
     "exception": false,
     "start_time": "2021-09-02T13:45:10.094809",
     "status": "completed"
    },
    "tags": []
   },
   "outputs": [
    {
     "data": {
      "application/javascript": [
       "parent.postMessage({\"jupyterEvent\": \"custom.exercise_interaction\", \"data\": {\"outcomeType\": 1, \"valueTowardsCompletion\": 0.3333333333333333, \"interactionType\": 1, \"questionType\": 1, \"questionId\": \"0.5_ZE\", \"learnToolsVersion\": \"0.3.4\", \"failureMessage\": \"\", \"exceptionClass\": \"\", \"trace\": \"\"}}, \"*\")"
      ],
      "text/plain": [
       "<IPython.core.display.Javascript object>"
      ]
     },
     "metadata": {},
     "output_type": "display_data"
    },
    {
     "data": {
      "text/markdown": [
       "<span style=\"color:#33cc33\">Correct:</span> \n",
       "\n",
       "The newline character is just a single character! (Even though we represent it to Python using a combination of two characters.)"
      ],
      "text/plain": [
       "Correct: \n",
       "\n",
       "The newline character is just a single character! (Even though we represent it to Python using a combination of two characters.)"
      ]
     },
     "metadata": {},
     "output_type": "display_data"
    }
   ],
   "source": [
    "e = '\\n'\n",
    "length = len(e)\n",
    "q0.e.check()"
   ]
  },
  {
   "cell_type": "markdown",
   "id": "660dfa49",
   "metadata": {
    "papermill": {
     "duration": 0.020444,
     "end_time": "2021-09-02T13:45:10.166709",
     "exception": false,
     "start_time": "2021-09-02T13:45:10.146265",
     "status": "completed"
    },
    "tags": []
   },
   "source": [
    "# 1.\n",
    "\n",
    "There is a saying that \"Data scientists spend 80% of their time cleaning data, and 20% of their time complaining about cleaning data.\" Let's see if you can write a function to help clean US zip code data. Given a string, it should return whether or not that string represents a valid zip code. For our purposes, a valid zip code is any string consisting of exactly 5 digits.\n",
    "\n",
    "HINT: `str` has a method that will be useful here. Use `help(str)` to review a list of string methods."
   ]
  },
  {
   "cell_type": "code",
   "execution_count": 7,
   "id": "656cbac7",
   "metadata": {
    "execution": {
     "iopub.execute_input": "2021-09-02T13:45:10.215833Z",
     "iopub.status.busy": "2021-09-02T13:45:10.215197Z",
     "iopub.status.idle": "2021-09-02T13:45:10.220348Z",
     "shell.execute_reply": "2021-09-02T13:45:10.219813Z",
     "shell.execute_reply.started": "2021-08-07T17:31:15.570368Z"
    },
    "papermill": {
     "duration": 0.031704,
     "end_time": "2021-09-02T13:45:10.220484",
     "exception": false,
     "start_time": "2021-09-02T13:45:10.188780",
     "status": "completed"
    },
    "tags": []
   },
   "outputs": [
    {
     "data": {
      "application/javascript": [
       "parent.postMessage({\"jupyterEvent\": \"custom.exercise_interaction\", \"data\": {\"outcomeType\": 1, \"valueTowardsCompletion\": 0.3333333333333333, \"interactionType\": 1, \"questionType\": 2, \"questionId\": \"1_ZipValidator\", \"learnToolsVersion\": \"0.3.4\", \"failureMessage\": \"\", \"exceptionClass\": \"\", \"trace\": \"\"}}, \"*\")"
      ],
      "text/plain": [
       "<IPython.core.display.Javascript object>"
      ]
     },
     "metadata": {},
     "output_type": "display_data"
    },
    {
     "data": {
      "text/markdown": [
       "<span style=\"color:#33cc33\">Correct</span>"
      ],
      "text/plain": [
       "Correct"
      ]
     },
     "metadata": {},
     "output_type": "display_data"
    }
   ],
   "source": [
    "def is_valid_zip(zip_code):\n",
    "    \"\"\"Returns whether the input string is a valid (5 digit) zip code\n",
    "    \"\"\"\n",
    "    return len(zip_code)==5 and zip_code.isdigit()\n",
    "\n",
    "# Check your answer\n",
    "q1.check()"
   ]
  },
  {
   "cell_type": "code",
   "execution_count": 8,
   "id": "23f1309b",
   "metadata": {
    "execution": {
     "iopub.execute_input": "2021-09-02T13:45:10.270126Z",
     "iopub.status.busy": "2021-09-02T13:45:10.269288Z",
     "iopub.status.idle": "2021-09-02T13:45:10.277477Z",
     "shell.execute_reply": "2021-09-02T13:45:10.277947Z",
     "shell.execute_reply.started": "2021-08-07T17:30:35.510527Z"
    },
    "papermill": {
     "duration": 0.035392,
     "end_time": "2021-09-02T13:45:10.278132",
     "exception": false,
     "start_time": "2021-09-02T13:45:10.242740",
     "status": "completed"
    },
    "tags": []
   },
   "outputs": [
    {
     "data": {
      "application/javascript": [
       "parent.postMessage({\"jupyterEvent\": \"custom.exercise_interaction\", \"data\": {\"interactionType\": 2, \"questionType\": 2, \"questionId\": \"1_ZipValidator\", \"learnToolsVersion\": \"0.3.4\", \"valueTowardsCompletion\": 0.0, \"failureMessage\": \"\", \"exceptionClass\": \"\", \"trace\": \"\", \"outcomeType\": 4}}, \"*\")"
      ],
      "text/plain": [
       "<IPython.core.display.Javascript object>"
      ]
     },
     "metadata": {},
     "output_type": "display_data"
    },
    {
     "data": {
      "text/markdown": [
       "<span style=\"color:#3366cc\">Hint:</span> Try looking up `help(str.isdigit)`"
      ],
      "text/plain": [
       "Hint: Try looking up `help(str.isdigit)`"
      ]
     },
     "metadata": {},
     "output_type": "display_data"
    },
    {
     "data": {
      "application/javascript": [
       "parent.postMessage({\"jupyterEvent\": \"custom.exercise_interaction\", \"data\": {\"interactionType\": 3, \"questionType\": 2, \"questionId\": \"1_ZipValidator\", \"learnToolsVersion\": \"0.3.4\", \"valueTowardsCompletion\": 0.0, \"failureMessage\": \"\", \"exceptionClass\": \"\", \"trace\": \"\", \"outcomeType\": 4}}, \"*\")"
      ],
      "text/plain": [
       "<IPython.core.display.Javascript object>"
      ]
     },
     "metadata": {},
     "output_type": "display_data"
    },
    {
     "data": {
      "text/markdown": [
       "<span style=\"color:#33cc99\">Solution:</span> \n",
       "```python\n",
       "def is_valid_zip(zip_str):\n",
       "    return len(zip_str) == 5 and zip_str.isdigit()\n",
       "```"
      ],
      "text/plain": [
       "Solution: \n",
       "```python\n",
       "def is_valid_zip(zip_str):\n",
       "    return len(zip_str) == 5 and zip_str.isdigit()\n",
       "```"
      ]
     },
     "metadata": {},
     "output_type": "display_data"
    }
   ],
   "source": [
    "q1.hint()\n",
    "q1.solution()"
   ]
  },
  {
   "cell_type": "markdown",
   "id": "a21d40bb",
   "metadata": {
    "papermill": {
     "duration": 0.023576,
     "end_time": "2021-09-02T13:45:10.326144",
     "exception": false,
     "start_time": "2021-09-02T13:45:10.302568",
     "status": "completed"
    },
    "tags": []
   },
   "source": [
    "# 2.\n",
    "\n",
    "A researcher has gathered thousands of news articles. But she wants to focus her attention on articles including a specific word. Complete the function below to help her filter her list of articles.\n",
    "\n",
    "Your function should meet the following criteria:\n",
    "\n",
    "- Do not include documents where the keyword string shows up only as a part of a larger word. For example, if she were looking for the keyword “closed”, you would not include the string “enclosed.” \n",
    "- She does not want you to distinguish upper case from lower case letters. So the phrase “Closed the case.” would be included when the keyword is “closed”\n",
    "- Do not let periods or commas affect what is matched. “It is closed.” would be included when the keyword is “closed”. But you can assume there are no other types of punctuation."
   ]
  },
  {
   "cell_type": "code",
   "execution_count": 9,
   "id": "e3d75dbb",
   "metadata": {
    "execution": {
     "iopub.execute_input": "2021-09-02T13:45:10.378771Z",
     "iopub.status.busy": "2021-09-02T13:45:10.377830Z",
     "iopub.status.idle": "2021-09-02T13:45:10.387254Z",
     "shell.execute_reply": "2021-09-02T13:45:10.387705Z",
     "shell.execute_reply.started": "2021-08-07T17:31:41.653359Z"
    },
    "papermill": {
     "duration": 0.037533,
     "end_time": "2021-09-02T13:45:10.387876",
     "exception": false,
     "start_time": "2021-09-02T13:45:10.350343",
     "status": "completed"
    },
    "tags": []
   },
   "outputs": [
    {
     "data": {
      "application/javascript": [
       "parent.postMessage({\"jupyterEvent\": \"custom.exercise_interaction\", \"data\": {\"outcomeType\": 1, \"valueTowardsCompletion\": 0.3333333333333333, \"interactionType\": 1, \"questionType\": 2, \"questionId\": \"2_WordSearch\", \"learnToolsVersion\": \"0.3.4\", \"failureMessage\": \"\", \"exceptionClass\": \"\", \"trace\": \"\"}}, \"*\")"
      ],
      "text/plain": [
       "<IPython.core.display.Javascript object>"
      ]
     },
     "metadata": {},
     "output_type": "display_data"
    },
    {
     "data": {
      "text/markdown": [
       "<span style=\"color:#33cc33\">Correct</span>"
      ],
      "text/plain": [
       "Correct"
      ]
     },
     "metadata": {},
     "output_type": "display_data"
    }
   ],
   "source": [
    "def word_search(documents, keyword):\n",
    "    # list to hold the indices of matching documents\n",
    "    indices = [] \n",
    "    # Iterate through the indices (i) and elements (doc) of documents\n",
    "    for i, doc in enumerate(documents):\n",
    "        # Split the string doc into a list of words (according to whitespace)\n",
    "        tokens = doc.split()\n",
    "        # Make a transformed list where we 'normalize' each word to facilitate matching.\n",
    "        # Periods and commas are removed from the end of each word, and it's set to all lowercase.\n",
    "        normalized = [token.rstrip('.,').lower() for token in tokens]\n",
    "        # Is there a match? If so, update the list of matching indices.\n",
    "        if keyword.lower() in normalized:\n",
    "            indices.append(i)\n",
    "    return indices\n",
    "\n",
    "# Check your answer\n",
    "q2.check()"
   ]
  },
  {
   "cell_type": "code",
   "execution_count": 10,
   "id": "bf07009f",
   "metadata": {
    "execution": {
     "iopub.execute_input": "2021-09-02T13:45:10.445319Z",
     "iopub.status.busy": "2021-09-02T13:45:10.444455Z",
     "iopub.status.idle": "2021-09-02T13:45:10.457600Z",
     "shell.execute_reply": "2021-09-02T13:45:10.458344Z",
     "shell.execute_reply.started": "2021-08-07T17:31:28.212033Z"
    },
    "papermill": {
     "duration": 0.045421,
     "end_time": "2021-09-02T13:45:10.458582",
     "exception": false,
     "start_time": "2021-09-02T13:45:10.413161",
     "status": "completed"
    },
    "tags": []
   },
   "outputs": [
    {
     "data": {
      "application/javascript": [
       "parent.postMessage({\"jupyterEvent\": \"custom.exercise_interaction\", \"data\": {\"interactionType\": 2, \"questionType\": 2, \"questionId\": \"2_WordSearch\", \"learnToolsVersion\": \"0.3.4\", \"valueTowardsCompletion\": 0.0, \"failureMessage\": \"\", \"exceptionClass\": \"\", \"trace\": \"\", \"outcomeType\": 4}}, \"*\")"
      ],
      "text/plain": [
       "<IPython.core.display.Javascript object>"
      ]
     },
     "metadata": {},
     "output_type": "display_data"
    },
    {
     "data": {
      "text/markdown": [
       "<span style=\"color:#3366cc\">Hint:</span> Some methods that may be useful here: `str.split()`, `str.strip()`, `str.lower()`."
      ],
      "text/plain": [
       "Hint: Some methods that may be useful here: `str.split()`, `str.strip()`, `str.lower()`."
      ]
     },
     "metadata": {},
     "output_type": "display_data"
    },
    {
     "data": {
      "application/javascript": [
       "parent.postMessage({\"jupyterEvent\": \"custom.exercise_interaction\", \"data\": {\"interactionType\": 3, \"questionType\": 2, \"questionId\": \"2_WordSearch\", \"learnToolsVersion\": \"0.3.4\", \"valueTowardsCompletion\": 0.0, \"failureMessage\": \"\", \"exceptionClass\": \"\", \"trace\": \"\", \"outcomeType\": 4}}, \"*\")"
      ],
      "text/plain": [
       "<IPython.core.display.Javascript object>"
      ]
     },
     "metadata": {},
     "output_type": "display_data"
    },
    {
     "data": {
      "text/markdown": [
       "<span style=\"color:#33cc99\">Solution:</span> \n",
       "```python\n",
       "def word_search(documents, keyword):\n",
       "    # list to hold the indices of matching documents\n",
       "    indices = [] \n",
       "    # Iterate through the indices (i) and elements (doc) of documents\n",
       "    for i, doc in enumerate(documents):\n",
       "        # Split the string doc into a list of words (according to whitespace)\n",
       "        tokens = doc.split()\n",
       "        # Make a transformed list where we 'normalize' each word to facilitate matching.\n",
       "        # Periods and commas are removed from the end of each word, and it's set to all lowercase.\n",
       "        normalized = [token.rstrip('.,').lower() for token in tokens]\n",
       "        # Is there a match? If so, update the list of matching indices.\n",
       "        if keyword.lower() in normalized:\n",
       "            indices.append(i)\n",
       "    return indices\n",
       "```"
      ],
      "text/plain": [
       "Solution: \n",
       "```python\n",
       "def word_search(documents, keyword):\n",
       "    # list to hold the indices of matching documents\n",
       "    indices = [] \n",
       "    # Iterate through the indices (i) and elements (doc) of documents\n",
       "    for i, doc in enumerate(documents):\n",
       "        # Split the string doc into a list of words (according to whitespace)\n",
       "        tokens = doc.split()\n",
       "        # Make a transformed list where we 'normalize' each word to facilitate matching.\n",
       "        # Periods and commas are removed from the end of each word, and it's set to all lowercase.\n",
       "        normalized = [token.rstrip('.,').lower() for token in tokens]\n",
       "        # Is there a match? If so, update the list of matching indices.\n",
       "        if keyword.lower() in normalized:\n",
       "            indices.append(i)\n",
       "    return indices\n",
       "```"
      ]
     },
     "metadata": {},
     "output_type": "display_data"
    }
   ],
   "source": [
    "q2.hint()\n",
    "q2.solution()"
   ]
  },
  {
   "cell_type": "markdown",
   "id": "0289adfb",
   "metadata": {
    "papermill": {
     "duration": 0.027958,
     "end_time": "2021-09-02T13:45:10.516287",
     "exception": false,
     "start_time": "2021-09-02T13:45:10.488329",
     "status": "completed"
    },
    "tags": []
   },
   "source": [
    "# 3.\n",
    "\n",
    "Now the researcher wants to supply multiple keywords to search for. Complete the function below to help her.\n",
    "\n",
    "(You're encouraged to use the `word_search` function you just wrote when implementing this function. Reusing code in this way makes your programs more robust and readable - and it saves typing!)"
   ]
  },
  {
   "cell_type": "code",
   "execution_count": 11,
   "id": "67cf7926",
   "metadata": {
    "execution": {
     "iopub.execute_input": "2021-09-02T13:45:10.580441Z",
     "iopub.status.busy": "2021-09-02T13:45:10.579667Z",
     "iopub.status.idle": "2021-09-02T13:45:10.585464Z",
     "shell.execute_reply": "2021-09-02T13:45:10.585917Z",
     "shell.execute_reply.started": "2021-08-07T17:32:04.73364Z"
    },
    "papermill": {
     "duration": 0.041472,
     "end_time": "2021-09-02T13:45:10.586120",
     "exception": false,
     "start_time": "2021-09-02T13:45:10.544648",
     "status": "completed"
    },
    "tags": []
   },
   "outputs": [
    {
     "data": {
      "application/javascript": [
       "parent.postMessage({\"jupyterEvent\": \"custom.exercise_interaction\", \"data\": {\"outcomeType\": 1, \"valueTowardsCompletion\": 0.3333333333333333, \"interactionType\": 1, \"questionType\": 2, \"questionId\": \"3_MultiWordSearch\", \"learnToolsVersion\": \"0.3.4\", \"failureMessage\": \"\", \"exceptionClass\": \"\", \"trace\": \"\"}}, \"*\")"
      ],
      "text/plain": [
       "<IPython.core.display.Javascript object>"
      ]
     },
     "metadata": {},
     "output_type": "display_data"
    },
    {
     "data": {
      "text/markdown": [
       "<span style=\"color:#33cc33\">Correct</span>"
      ],
      "text/plain": [
       "Correct"
      ]
     },
     "metadata": {},
     "output_type": "display_data"
    }
   ],
   "source": [
    "def multi_word_search(documents, keywords):\n",
    "    keyword_to_indices = {}\n",
    "    for keyword in keywords:\n",
    "        keyword_to_indices[keyword] = word_search(documents, keyword)\n",
    "    return keyword_to_indices\n",
    "\n",
    "# Check your answer\n",
    "q3.check()"
   ]
  },
  {
   "cell_type": "code",
   "execution_count": 12,
   "id": "ea722063",
   "metadata": {
    "execution": {
     "iopub.execute_input": "2021-09-02T13:45:10.648967Z",
     "iopub.status.busy": "2021-09-02T13:45:10.647994Z",
     "iopub.status.idle": "2021-09-02T13:45:10.654370Z",
     "shell.execute_reply": "2021-09-02T13:45:10.653739Z",
     "shell.execute_reply.started": "2021-08-07T17:31:50.839728Z"
    },
    "papermill": {
     "duration": 0.039587,
     "end_time": "2021-09-02T13:45:10.654507",
     "exception": false,
     "start_time": "2021-09-02T13:45:10.614920",
     "status": "completed"
    },
    "tags": []
   },
   "outputs": [
    {
     "data": {
      "application/javascript": [
       "parent.postMessage({\"jupyterEvent\": \"custom.exercise_interaction\", \"data\": {\"interactionType\": 3, \"questionType\": 2, \"questionId\": \"3_MultiWordSearch\", \"learnToolsVersion\": \"0.3.4\", \"valueTowardsCompletion\": 0.0, \"failureMessage\": \"\", \"exceptionClass\": \"\", \"trace\": \"\", \"outcomeType\": 4}}, \"*\")"
      ],
      "text/plain": [
       "<IPython.core.display.Javascript object>"
      ]
     },
     "metadata": {},
     "output_type": "display_data"
    },
    {
     "data": {
      "text/markdown": [
       "<span style=\"color:#33cc99\">Solution:</span> \n",
       "```python\n",
       "def multi_word_search(documents, keywords):\n",
       "    keyword_to_indices = {}\n",
       "    for keyword in keywords:\n",
       "        keyword_to_indices[keyword] = word_search(documents, keyword)\n",
       "    return keyword_to_indices\n",
       "```"
      ],
      "text/plain": [
       "Solution: \n",
       "```python\n",
       "def multi_word_search(documents, keywords):\n",
       "    keyword_to_indices = {}\n",
       "    for keyword in keywords:\n",
       "        keyword_to_indices[keyword] = word_search(documents, keyword)\n",
       "    return keyword_to_indices\n",
       "```"
      ]
     },
     "metadata": {},
     "output_type": "display_data"
    }
   ],
   "source": [
    "q3.solution()"
   ]
  },
  {
   "cell_type": "markdown",
   "id": "ee4fabc8",
   "metadata": {
    "papermill": {
     "duration": 0.029455,
     "end_time": "2021-09-02T13:45:10.713694",
     "exception": false,
     "start_time": "2021-09-02T13:45:10.684239",
     "status": "completed"
    },
    "tags": []
   },
   "source": [
    "# Keep Going\n",
    "\n",
    "You've learned a lot. But even the best programmers rely heavily on \"libraries\" of code from other programmers. You'll learn about that in **[the last lesson](https://www.kaggle.com/colinmorris/working-with-external-libraries)**.\n"
   ]
  },
  {
   "cell_type": "markdown",
   "id": "3df99d11",
   "metadata": {
    "papermill": {
     "duration": 0.029082,
     "end_time": "2021-09-02T13:45:10.772324",
     "exception": false,
     "start_time": "2021-09-02T13:45:10.743242",
     "status": "completed"
    },
    "tags": []
   },
   "source": [
    "---\n",
    "\n",
    "\n",
    "\n",
    "\n",
    "*Have questions or comments? Visit the [Learn Discussion forum](https://www.kaggle.com/learn-forum/161283) to chat with other Learners.*"
   ]
  }
 ],
 "metadata": {
  "kernelspec": {
   "display_name": "Python 3",
   "language": "python",
   "name": "python3"
  },
  "language_info": {
   "codemirror_mode": {
    "name": "ipython",
    "version": 3
   },
   "file_extension": ".py",
   "mimetype": "text/x-python",
   "name": "python",
   "nbconvert_exporter": "python",
   "pygments_lexer": "ipython3",
   "version": "3.7.10"
  },
  "papermill": {
   "default_parameters": {},
   "duration": 9.566157,
   "end_time": "2021-09-02T13:45:11.410811",
   "environment_variables": {},
   "exception": null,
   "input_path": "__notebook__.ipynb",
   "output_path": "__notebook__.ipynb",
   "parameters": {},
   "start_time": "2021-09-02T13:45:01.844654",
   "version": "2.3.3"
  }
 },
 "nbformat": 4,
 "nbformat_minor": 5
}
